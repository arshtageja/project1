{
  "cells": [
    {
      "metadata": {
        "trusted": true
      },
      "cell_type": "code",
      "source": "import numpy as np\nimport pandas as pd",
      "execution_count": 1,
      "outputs": []
    },
    {
      "metadata": {
        "trusted": true
      },
      "cell_type": "code",
      "source": "d=pd.read_csv(\"test.csv\")",
      "execution_count": 2,
      "outputs": []
    },
    {
      "metadata": {
        "trusted": true
      },
      "cell_type": "code",
      "source": "d.head(10)",
      "execution_count": 3,
      "outputs": [
        {
          "output_type": "execute_result",
          "execution_count": 3,
          "data": {
            "text/html": "<div>\n<style scoped>\n    .dataframe tbody tr th:only-of-type {\n        vertical-align: middle;\n    }\n\n    .dataframe tbody tr th {\n        vertical-align: top;\n    }\n\n    .dataframe thead th {\n        text-align: right;\n    }\n</style>\n<table border=\"1\" class=\"dataframe\">\n  <thead>\n    <tr style=\"text-align: right;\">\n      <th></th>\n      <th>Id</th>\n      <th>Dates</th>\n      <th>DayOfWeek</th>\n      <th>PdDistrict</th>\n      <th>Address</th>\n      <th>X</th>\n      <th>Y</th>\n    </tr>\n  </thead>\n  <tbody>\n    <tr>\n      <th>0</th>\n      <td>0</td>\n      <td>2015-05-10 23:59:00</td>\n      <td>Sunday</td>\n      <td>BAYVIEW</td>\n      <td>2000 Block of THOMAS AV</td>\n      <td>-122.39958770418998</td>\n      <td>37.735051</td>\n    </tr>\n    <tr>\n      <th>1</th>\n      <td>1</td>\n      <td>2015-05-10 23:51:00</td>\n      <td>Sunday</td>\n      <td>BAYVIEW</td>\n      <td>3RD ST / REVERE AV</td>\n      <td>-122.391522893042</td>\n      <td>37.732432</td>\n    </tr>\n    <tr>\n      <th>2</th>\n      <td>2</td>\n      <td>2015-05-10 23:50:00</td>\n      <td>Sunday</td>\n      <td>NORTHERN</td>\n      <td>2000 Block of GOUGH ST</td>\n      <td>-122.426001954961</td>\n      <td>37.792212</td>\n    </tr>\n    <tr>\n      <th>3</th>\n      <td>3</td>\n      <td>2015-05-10 23:45:00</td>\n      <td>Sunday</td>\n      <td>INGLESIDE</td>\n      <td>4700 Block of MISSION ST</td>\n      <td>-122.437393972517</td>\n      <td>37.721412</td>\n    </tr>\n    <tr>\n      <th>4</th>\n      <td>4</td>\n      <td>2015-05-10 23:45:00</td>\n      <td>Sunday</td>\n      <td>INGLESIDE</td>\n      <td>4700 Block of MISSION ST</td>\n      <td>-122.437393972517</td>\n      <td>37.721412</td>\n    </tr>\n    <tr>\n      <th>5</th>\n      <td>5</td>\n      <td>2015-05-10 23:40:00</td>\n      <td>Sunday</td>\n      <td>TARAVAL</td>\n      <td>BROAD ST / CAPITOL AV</td>\n      <td>-122.45902362242902</td>\n      <td>37.713172</td>\n    </tr>\n    <tr>\n      <th>6</th>\n      <td>6</td>\n      <td>2015-05-10 23:30:00</td>\n      <td>Sunday</td>\n      <td>INGLESIDE</td>\n      <td>100 Block of CHENERY ST</td>\n      <td>-122.42561645123001</td>\n      <td>37.739351</td>\n    </tr>\n    <tr>\n      <th>7</th>\n      <td>7</td>\n      <td>2015-05-10 23:30:00</td>\n      <td>Sunday</td>\n      <td>INGLESIDE</td>\n      <td>200 Block of BANKS ST</td>\n      <td>-122.41265203979201</td>\n      <td>37.739750</td>\n    </tr>\n    <tr>\n      <th>8</th>\n      <td>8</td>\n      <td>2015-05-10 23:10:00</td>\n      <td>Sunday</td>\n      <td>MISSION</td>\n      <td>2900 Block of 16TH ST</td>\n      <td>-122.418700097043</td>\n      <td>37.765165</td>\n    </tr>\n    <tr>\n      <th>9</th>\n      <td>9</td>\n      <td>2015-05-10 23:10:00</td>\n      <td>Sunday</td>\n      <td>CENTRAL</td>\n      <td>TAYLOR ST / GREEN ST</td>\n      <td>-122.413934584561</td>\n      <td>37.798886</td>\n    </tr>\n  </tbody>\n</table>\n</div>",
            "text/plain": "   Id                Dates DayOfWeek PdDistrict                   Address  \\\n0   0  2015-05-10 23:59:00    Sunday    BAYVIEW   2000 Block of THOMAS AV   \n1   1  2015-05-10 23:51:00    Sunday    BAYVIEW        3RD ST / REVERE AV   \n2   2  2015-05-10 23:50:00    Sunday   NORTHERN    2000 Block of GOUGH ST   \n3   3  2015-05-10 23:45:00    Sunday  INGLESIDE  4700 Block of MISSION ST   \n4   4  2015-05-10 23:45:00    Sunday  INGLESIDE  4700 Block of MISSION ST   \n5   5  2015-05-10 23:40:00    Sunday    TARAVAL     BROAD ST / CAPITOL AV   \n6   6  2015-05-10 23:30:00    Sunday  INGLESIDE   100 Block of CHENERY ST   \n7   7  2015-05-10 23:30:00    Sunday  INGLESIDE     200 Block of BANKS ST   \n8   8  2015-05-10 23:10:00    Sunday    MISSION     2900 Block of 16TH ST   \n9   9  2015-05-10 23:10:00    Sunday    CENTRAL      TAYLOR ST / GREEN ST   \n\n                     X          Y  \n0  -122.39958770418998  37.735051  \n1    -122.391522893042  37.732432  \n2    -122.426001954961  37.792212  \n3    -122.437393972517  37.721412  \n4    -122.437393972517  37.721412  \n5  -122.45902362242902  37.713172  \n6  -122.42561645123001  37.739351  \n7  -122.41265203979201  37.739750  \n8    -122.418700097043  37.765165  \n9    -122.413934584561  37.798886  "
          },
          "metadata": {}
        }
      ]
    },
    {
      "metadata": {
        "trusted": true
      },
      "cell_type": "code",
      "source": "len(d)",
      "execution_count": 4,
      "outputs": [
        {
          "output_type": "execute_result",
          "execution_count": 4,
          "data": {
            "text/plain": "41199"
          },
          "metadata": {}
        }
      ]
    },
    {
      "metadata": {
        "trusted": true
      },
      "cell_type": "code",
      "source": "d=pd.DataFrame(d)",
      "execution_count": 5,
      "outputs": []
    },
    {
      "metadata": {
        "trusted": true,
        "scrolled": false
      },
      "cell_type": "code",
      "source": "d.head(100)",
      "execution_count": 6,
      "outputs": [
        {
          "output_type": "execute_result",
          "execution_count": 6,
          "data": {
            "text/html": "<div>\n<style scoped>\n    .dataframe tbody tr th:only-of-type {\n        vertical-align: middle;\n    }\n\n    .dataframe tbody tr th {\n        vertical-align: top;\n    }\n\n    .dataframe thead th {\n        text-align: right;\n    }\n</style>\n<table border=\"1\" class=\"dataframe\">\n  <thead>\n    <tr style=\"text-align: right;\">\n      <th></th>\n      <th>Id</th>\n      <th>Dates</th>\n      <th>DayOfWeek</th>\n      <th>PdDistrict</th>\n      <th>Address</th>\n      <th>X</th>\n      <th>Y</th>\n    </tr>\n  </thead>\n  <tbody>\n    <tr>\n      <th>0</th>\n      <td>0</td>\n      <td>2015-05-10 23:59:00</td>\n      <td>Sunday</td>\n      <td>BAYVIEW</td>\n      <td>2000 Block of THOMAS AV</td>\n      <td>-122.39958770418998</td>\n      <td>37.735051</td>\n    </tr>\n    <tr>\n      <th>1</th>\n      <td>1</td>\n      <td>2015-05-10 23:51:00</td>\n      <td>Sunday</td>\n      <td>BAYVIEW</td>\n      <td>3RD ST / REVERE AV</td>\n      <td>-122.391522893042</td>\n      <td>37.732432</td>\n    </tr>\n    <tr>\n      <th>2</th>\n      <td>2</td>\n      <td>2015-05-10 23:50:00</td>\n      <td>Sunday</td>\n      <td>NORTHERN</td>\n      <td>2000 Block of GOUGH ST</td>\n      <td>-122.426001954961</td>\n      <td>37.792212</td>\n    </tr>\n    <tr>\n      <th>3</th>\n      <td>3</td>\n      <td>2015-05-10 23:45:00</td>\n      <td>Sunday</td>\n      <td>INGLESIDE</td>\n      <td>4700 Block of MISSION ST</td>\n      <td>-122.437393972517</td>\n      <td>37.721412</td>\n    </tr>\n    <tr>\n      <th>4</th>\n      <td>4</td>\n      <td>2015-05-10 23:45:00</td>\n      <td>Sunday</td>\n      <td>INGLESIDE</td>\n      <td>4700 Block of MISSION ST</td>\n      <td>-122.437393972517</td>\n      <td>37.721412</td>\n    </tr>\n    <tr>\n      <th>5</th>\n      <td>5</td>\n      <td>2015-05-10 23:40:00</td>\n      <td>Sunday</td>\n      <td>TARAVAL</td>\n      <td>BROAD ST / CAPITOL AV</td>\n      <td>-122.45902362242902</td>\n      <td>37.713172</td>\n    </tr>\n    <tr>\n      <th>6</th>\n      <td>6</td>\n      <td>2015-05-10 23:30:00</td>\n      <td>Sunday</td>\n      <td>INGLESIDE</td>\n      <td>100 Block of CHENERY ST</td>\n      <td>-122.42561645123001</td>\n      <td>37.739351</td>\n    </tr>\n    <tr>\n      <th>7</th>\n      <td>7</td>\n      <td>2015-05-10 23:30:00</td>\n      <td>Sunday</td>\n      <td>INGLESIDE</td>\n      <td>200 Block of BANKS ST</td>\n      <td>-122.41265203979201</td>\n      <td>37.739750</td>\n    </tr>\n    <tr>\n      <th>8</th>\n      <td>8</td>\n      <td>2015-05-10 23:10:00</td>\n      <td>Sunday</td>\n      <td>MISSION</td>\n      <td>2900 Block of 16TH ST</td>\n      <td>-122.418700097043</td>\n      <td>37.765165</td>\n    </tr>\n    <tr>\n      <th>9</th>\n      <td>9</td>\n      <td>2015-05-10 23:10:00</td>\n      <td>Sunday</td>\n      <td>CENTRAL</td>\n      <td>TAYLOR ST / GREEN ST</td>\n      <td>-122.413934584561</td>\n      <td>37.798886</td>\n    </tr>\n    <tr>\n      <th>10</th>\n      <td>10</td>\n      <td>2015-05-10 23:00:00</td>\n      <td>Sunday</td>\n      <td>INGLESIDE</td>\n      <td>100 Block of PERALTA AV</td>\n      <td>-122.40860777448499</td>\n      <td>37.746787</td>\n    </tr>\n    <tr>\n      <th>11</th>\n      <td>11</td>\n      <td>2015-05-10 23:00:00</td>\n      <td>Sunday</td>\n      <td>MISSION</td>\n      <td>600 Block of FLORIDA ST</td>\n      <td>-122.411093822635</td>\n      <td>37.761048</td>\n    </tr>\n    <tr>\n      <th>12</th>\n      <td>12</td>\n      <td>2015-05-10 23:00:00</td>\n      <td>Sunday</td>\n      <td>MISSION</td>\n      <td>600 Block of FLORIDA ST</td>\n      <td>-122.411093822635</td>\n      <td>37.761048</td>\n    </tr>\n    <tr>\n      <th>13</th>\n      <td>13</td>\n      <td>2015-05-10 23:00:00</td>\n      <td>Sunday</td>\n      <td>CENTRAL</td>\n      <td>200 Block of VALLEJO ST</td>\n      <td>-122.402130610278</td>\n      <td>37.799364</td>\n    </tr>\n    <tr>\n      <th>14</th>\n      <td>14</td>\n      <td>2015-05-10 23:00:00</td>\n      <td>Sunday</td>\n      <td>CENTRAL</td>\n      <td>JEFFERSON ST / HYDE ST</td>\n      <td>-122.420747467177</td>\n      <td>37.807588</td>\n    </tr>\n    <tr>\n      <th>15</th>\n      <td>15</td>\n      <td>2015-05-10 22:50:00</td>\n      <td>Sunday</td>\n      <td>TENDERLOIN</td>\n      <td>GOLDEN GATE AV / HYDE ST</td>\n      <td>-122.415508242782</td>\n      <td>37.781654</td>\n    </tr>\n    <tr>\n      <th>16</th>\n      <td>16</td>\n      <td>2015-05-10 22:36:00</td>\n      <td>Sunday</td>\n      <td>TARAVAL</td>\n      <td>1200 Block of OCEAN AV</td>\n      <td>-122.45567852962401</td>\n      <td>37.723702</td>\n    </tr>\n    <tr>\n      <th>17</th>\n      <td>17</td>\n      <td>2015-05-10 22:00:00</td>\n      <td>Sunday</td>\n      <td>INGLESIDE</td>\n      <td>1200 Block of GIRARD ST</td>\n      <td>-122.400298318649</td>\n      <td>37.717181</td>\n    </tr>\n    <tr>\n      <th>18</th>\n      <td>18</td>\n      <td>2015-05-10 22:00:00</td>\n      <td>Sunday</td>\n      <td>NORTHERN</td>\n      <td>1900 Block of FILLMORE ST</td>\n      <td>-122.433668534709</td>\n      <td>37.787709</td>\n    </tr>\n    <tr>\n      <th>19</th>\n      <td>19</td>\n      <td>2015-05-10 22:00:00</td>\n      <td>Sunday</td>\n      <td>NORTHERN</td>\n      <td>GREEN ST / POLK ST</td>\n      <td>-122.422149614358</td>\n      <td>37.797824</td>\n    </tr>\n    <tr>\n      <th>20</th>\n      <td>20</td>\n      <td>2015-05-10 22:00:00</td>\n      <td>Sunday</td>\n      <td>NORTHERN</td>\n      <td>GREEN ST / POLK ST</td>\n      <td>-122.422149614358</td>\n      <td>37.797824</td>\n    </tr>\n    <tr>\n      <th>21</th>\n      <td>21</td>\n      <td>2015-05-10 22:00:00</td>\n      <td>Sunday</td>\n      <td>MISSION</td>\n      <td>15TH ST / FOLSOM ST</td>\n      <td>-122.415464372874</td>\n      <td>37.766937</td>\n    </tr>\n    <tr>\n      <th>22</th>\n      <td>22</td>\n      <td>2015-05-10 21:54:00</td>\n      <td>Sunday</td>\n      <td>CENTRAL</td>\n      <td>1800 Block of KEARNY ST</td>\n      <td>-122.406820555032</td>\n      <td>37.804828</td>\n    </tr>\n    <tr>\n      <th>23</th>\n      <td>23</td>\n      <td>2015-05-10 21:51:00</td>\n      <td>Sunday</td>\n      <td>INGLESIDE</td>\n      <td>200 Block of PEABODY ST</td>\n      <td>-122.40792248129401</td>\n      <td>37.709004</td>\n    </tr>\n    <tr>\n      <th>24</th>\n      <td>24</td>\n      <td>2015-05-10 21:35:00</td>\n      <td>Sunday</td>\n      <td>NORTHERN</td>\n      <td>500 Block of HAIGHT ST</td>\n      <td>-122.431289969136</td>\n      <td>37.772055</td>\n    </tr>\n    <tr>\n      <th>25</th>\n      <td>25</td>\n      <td>2015-05-10 21:30:00</td>\n      <td>Sunday</td>\n      <td>RICHMOND</td>\n      <td>200 Block of 11TH AV</td>\n      <td>-122.469906688039</td>\n      <td>37.783616</td>\n    </tr>\n    <tr>\n      <th>26</th>\n      <td>26</td>\n      <td>2015-05-10 21:30:00</td>\n      <td>Sunday</td>\n      <td>NORTHERN</td>\n      <td>800 Block of FULTON ST</td>\n      <td>-122.431149073441</td>\n      <td>37.777698</td>\n    </tr>\n    <tr>\n      <th>27</th>\n      <td>27</td>\n      <td>2015-05-10 21:16:00</td>\n      <td>Sunday</td>\n      <td>SOUTHERN</td>\n      <td>800 Block of BRYANT ST</td>\n      <td>-122.40340479147899</td>\n      <td>37.775421</td>\n    </tr>\n    <tr>\n      <th>28</th>\n      <td>28</td>\n      <td>2015-05-10 21:00:00</td>\n      <td>Sunday</td>\n      <td>INGLESIDE</td>\n      <td>300 Block of LOSPALMOS DR</td>\n      <td>-122.45067626133002</td>\n      <td>37.735401</td>\n    </tr>\n    <tr>\n      <th>29</th>\n      <td>29</td>\n      <td>2015-05-10 21:00:00</td>\n      <td>Sunday</td>\n      <td>TARAVAL</td>\n      <td>1800 Block of 15TH AV</td>\n      <td>-122.472130727218</td>\n      <td>37.753391</td>\n    </tr>\n    <tr>\n      <th>...</th>\n      <td>...</td>\n      <td>...</td>\n      <td>...</td>\n      <td>...</td>\n      <td>...</td>\n      <td>...</td>\n      <td>...</td>\n    </tr>\n    <tr>\n      <th>70</th>\n      <td>70</td>\n      <td>2015-05-10 19:00:00</td>\n      <td>Sunday</td>\n      <td>SOUTHERN</td>\n      <td>800 Block of BRYANT ST</td>\n      <td>-122.40340479147899</td>\n      <td>37.775421</td>\n    </tr>\n    <tr>\n      <th>71</th>\n      <td>71</td>\n      <td>2015-05-10 18:58:00</td>\n      <td>Sunday</td>\n      <td>RICHMOND</td>\n      <td>GEARY BL / 28TH AV</td>\n      <td>-122.487946479231</td>\n      <td>37.779944</td>\n    </tr>\n    <tr>\n      <th>72</th>\n      <td>72</td>\n      <td>2015-05-10 18:58:00</td>\n      <td>Sunday</td>\n      <td>RICHMOND</td>\n      <td>GEARY BL / 28TH AV</td>\n      <td>-122.487946479231</td>\n      <td>37.779944</td>\n    </tr>\n    <tr>\n      <th>73</th>\n      <td>73</td>\n      <td>2015-05-10 18:58:00</td>\n      <td>Sunday</td>\n      <td>RICHMOND</td>\n      <td>GEARY BL / 28TH AV</td>\n      <td>-122.487946479231</td>\n      <td>37.779944</td>\n    </tr>\n    <tr>\n      <th>74</th>\n      <td>74</td>\n      <td>2015-05-10 18:52:00</td>\n      <td>Sunday</td>\n      <td>TENDERLOIN</td>\n      <td>OFARRELL ST / POWELL ST</td>\n      <td>-122.408040474858</td>\n      <td>37.786409</td>\n    </tr>\n    <tr>\n      <th>75</th>\n      <td>75</td>\n      <td>2015-05-10 18:45:00</td>\n      <td>Sunday</td>\n      <td>RICHMOND</td>\n      <td>600 Block of 9TH AV</td>\n      <td>-122.467221148771</td>\n      <td>37.776134</td>\n    </tr>\n    <tr>\n      <th>76</th>\n      <td>76</td>\n      <td>2015-05-10 18:30:00</td>\n      <td>Sunday</td>\n      <td>BAYVIEW</td>\n      <td>400 Block of MISSISSIPPI ST</td>\n      <td>-122.39434290268998</td>\n      <td>37.760771</td>\n    </tr>\n    <tr>\n      <th>77</th>\n      <td>77</td>\n      <td>2015-05-10 18:30:00</td>\n      <td>Sunday</td>\n      <td>PARK</td>\n      <td>1200 Block of PAGE ST</td>\n      <td>-122.44139370111401</td>\n      <td>37.771727</td>\n    </tr>\n    <tr>\n      <th>78</th>\n      <td>78</td>\n      <td>2015-05-10 18:30:00</td>\n      <td>Sunday</td>\n      <td>PARK</td>\n      <td>1200 Block of PAGE ST</td>\n      <td>-122.44139370111401</td>\n      <td>37.771727</td>\n    </tr>\n    <tr>\n      <th>79</th>\n      <td>79</td>\n      <td>2015-05-10 18:30:00</td>\n      <td>Sunday</td>\n      <td>PARK</td>\n      <td>2400 Block of GEARY BL</td>\n      <td>-122.44364285254</td>\n      <td>37.782918</td>\n    </tr>\n    <tr>\n      <th>80</th>\n      <td>80</td>\n      <td>2015-05-10 18:30:00</td>\n      <td>Sunday</td>\n      <td>BAYVIEW</td>\n      <td>7TH ST / 16TH ST</td>\n      <td>-122.395062849863</td>\n      <td>37.766544</td>\n    </tr>\n    <tr>\n      <th>81</th>\n      <td>81</td>\n      <td>2015-05-10 18:29:00</td>\n      <td>Sunday</td>\n      <td>MISSION</td>\n      <td>16TH ST / MISSION ST</td>\n      <td>-122.419671780296</td>\n      <td>37.765050</td>\n    </tr>\n    <tr>\n      <th>82</th>\n      <td>82</td>\n      <td>2015-05-10 18:15:00</td>\n      <td>Sunday</td>\n      <td>TARAVAL</td>\n      <td>600 Block of IRVING ST</td>\n      <td>-122.464722568832</td>\n      <td>37.764162</td>\n    </tr>\n    <tr>\n      <th>83</th>\n      <td>83</td>\n      <td>2015-05-10 18:15:00</td>\n      <td>Sunday</td>\n      <td>TARAVAL</td>\n      <td>2300 Block of 42ND AV</td>\n      <td>-122.500466121213</td>\n      <td>37.742874</td>\n    </tr>\n    <tr>\n      <th>84</th>\n      <td>84</td>\n      <td>2015-05-10 18:10:00</td>\n      <td>Sunday</td>\n      <td>RICHMOND</td>\n      <td>FULTON ST / LA PLAYA ST</td>\n      <td>-122.50989299593</td>\n      <td>37.771394</td>\n    </tr>\n    <tr>\n      <th>85</th>\n      <td>85</td>\n      <td>2015-05-10 18:00:00</td>\n      <td>Sunday</td>\n      <td>RICHMOND</td>\n      <td>3900 Block of GEARY BL</td>\n      <td>-122.461603688677</td>\n      <td>37.781018</td>\n    </tr>\n    <tr>\n      <th>86</th>\n      <td>86</td>\n      <td>2015-05-10 18:00:00</td>\n      <td>Sunday</td>\n      <td>RICHMOND</td>\n      <td>3900 Block of GEARY BL</td>\n      <td>-122.461603688677</td>\n      <td>37.781018</td>\n    </tr>\n    <tr>\n      <th>87</th>\n      <td>87</td>\n      <td>2015-05-10 18:00:00</td>\n      <td>Sunday</td>\n      <td>BAYVIEW</td>\n      <td>700 Block of LECONTE AV</td>\n      <td>-122.396677554564</td>\n      <td>37.716722</td>\n    </tr>\n    <tr>\n      <th>88</th>\n      <td>88</td>\n      <td>2015-05-10 17:52:00</td>\n      <td>Sunday</td>\n      <td>CENTRAL</td>\n      <td>GREEN ST / BANNAM PL</td>\n      <td>-122.407702556181</td>\n      <td>37.799663</td>\n    </tr>\n    <tr>\n      <th>89</th>\n      <td>89</td>\n      <td>2015-05-10 17:35:00</td>\n      <td>Sunday</td>\n      <td>NORTHERN</td>\n      <td>400 Block of VANNESS AV</td>\n      <td>-122.42021727334499</td>\n      <td>37.779151</td>\n    </tr>\n    <tr>\n      <th>90</th>\n      <td>90</td>\n      <td>2015-05-10 17:30:00</td>\n      <td>Sunday</td>\n      <td>SOUTHERN</td>\n      <td>800 Block of MARKET ST</td>\n      <td>-122.407633520742</td>\n      <td>37.784189</td>\n    </tr>\n    <tr>\n      <th>91</th>\n      <td>91</td>\n      <td>2015-05-10 17:30:00</td>\n      <td>Sunday</td>\n      <td>SOUTHERN</td>\n      <td>800 Block of MARKET ST</td>\n      <td>-122.407633520742</td>\n      <td>37.784189</td>\n    </tr>\n    <tr>\n      <th>92</th>\n      <td>92</td>\n      <td>2015-05-10 17:30:00</td>\n      <td>Sunday</td>\n      <td>INGLESIDE</td>\n      <td>0 Block of DELANO AV</td>\n      <td>-122.44015982058399</td>\n      <td>37.727094</td>\n    </tr>\n    <tr>\n      <th>93</th>\n      <td>93</td>\n      <td>2015-05-10 17:30:00</td>\n      <td>Sunday</td>\n      <td>MISSION</td>\n      <td>CESAR CHAVEZ ST / POTRERO AV</td>\n      <td>-122.405096871916</td>\n      <td>37.749110</td>\n    </tr>\n    <tr>\n      <th>94</th>\n      <td>94</td>\n      <td>2015-05-10 17:30:00</td>\n      <td>Sunday</td>\n      <td>MISSION</td>\n      <td>CESAR CHAVEZ ST / POTRERO AV</td>\n      <td>-122.405096871916</td>\n      <td>37.749110</td>\n    </tr>\n    <tr>\n      <th>95</th>\n      <td>95</td>\n      <td>2015-05-10 17:30:00</td>\n      <td>Sunday</td>\n      <td>RICHMOND</td>\n      <td>FUNSTON AV / CABRILLO ST</td>\n      <td>-122.471372908785</td>\n      <td>37.775025</td>\n    </tr>\n    <tr>\n      <th>96</th>\n      <td>96</td>\n      <td>2015-05-10 17:30:00</td>\n      <td>Sunday</td>\n      <td>NORTHERN</td>\n      <td>FILLMORE ST / GEARY BL</td>\n      <td>-122.432914603494</td>\n      <td>37.784353</td>\n    </tr>\n    <tr>\n      <th>97</th>\n      <td>97</td>\n      <td>2015-05-10 17:29:00</td>\n      <td>Sunday</td>\n      <td>BAYVIEW</td>\n      <td>1300 Block of THOMAS AV</td>\n      <td>-122.386594164927</td>\n      <td>37.727818</td>\n    </tr>\n    <tr>\n      <th>98</th>\n      <td>98</td>\n      <td>2015-05-10 17:28:00</td>\n      <td>Sunday</td>\n      <td>TARAVAL</td>\n      <td>1800 Block of IRVING ST</td>\n      <td>-122.477696048974</td>\n      <td>37.763592</td>\n    </tr>\n    <tr>\n      <th>99</th>\n      <td>99</td>\n      <td>2015-05-10 17:17:00</td>\n      <td>Sunday</td>\n      <td>SOUTHERN</td>\n      <td>800 Block of BRYANT ST</td>\n      <td>-122.40340479147899</td>\n      <td>37.775421</td>\n    </tr>\n  </tbody>\n</table>\n<p>100 rows × 7 columns</p>\n</div>",
            "text/plain": "    Id                Dates DayOfWeek  PdDistrict  \\\n0    0  2015-05-10 23:59:00    Sunday     BAYVIEW   \n1    1  2015-05-10 23:51:00    Sunday     BAYVIEW   \n2    2  2015-05-10 23:50:00    Sunday    NORTHERN   \n3    3  2015-05-10 23:45:00    Sunday   INGLESIDE   \n4    4  2015-05-10 23:45:00    Sunday   INGLESIDE   \n5    5  2015-05-10 23:40:00    Sunday     TARAVAL   \n6    6  2015-05-10 23:30:00    Sunday   INGLESIDE   \n7    7  2015-05-10 23:30:00    Sunday   INGLESIDE   \n8    8  2015-05-10 23:10:00    Sunday     MISSION   \n9    9  2015-05-10 23:10:00    Sunday     CENTRAL   \n10  10  2015-05-10 23:00:00    Sunday   INGLESIDE   \n11  11  2015-05-10 23:00:00    Sunday     MISSION   \n12  12  2015-05-10 23:00:00    Sunday     MISSION   \n13  13  2015-05-10 23:00:00    Sunday     CENTRAL   \n14  14  2015-05-10 23:00:00    Sunday     CENTRAL   \n15  15  2015-05-10 22:50:00    Sunday  TENDERLOIN   \n16  16  2015-05-10 22:36:00    Sunday     TARAVAL   \n17  17  2015-05-10 22:00:00    Sunday   INGLESIDE   \n18  18  2015-05-10 22:00:00    Sunday    NORTHERN   \n19  19  2015-05-10 22:00:00    Sunday    NORTHERN   \n20  20  2015-05-10 22:00:00    Sunday    NORTHERN   \n21  21  2015-05-10 22:00:00    Sunday     MISSION   \n22  22  2015-05-10 21:54:00    Sunday     CENTRAL   \n23  23  2015-05-10 21:51:00    Sunday   INGLESIDE   \n24  24  2015-05-10 21:35:00    Sunday    NORTHERN   \n25  25  2015-05-10 21:30:00    Sunday    RICHMOND   \n26  26  2015-05-10 21:30:00    Sunday    NORTHERN   \n27  27  2015-05-10 21:16:00    Sunday    SOUTHERN   \n28  28  2015-05-10 21:00:00    Sunday   INGLESIDE   \n29  29  2015-05-10 21:00:00    Sunday     TARAVAL   \n..  ..                  ...       ...         ...   \n70  70  2015-05-10 19:00:00    Sunday    SOUTHERN   \n71  71  2015-05-10 18:58:00    Sunday    RICHMOND   \n72  72  2015-05-10 18:58:00    Sunday    RICHMOND   \n73  73  2015-05-10 18:58:00    Sunday    RICHMOND   \n74  74  2015-05-10 18:52:00    Sunday  TENDERLOIN   \n75  75  2015-05-10 18:45:00    Sunday    RICHMOND   \n76  76  2015-05-10 18:30:00    Sunday     BAYVIEW   \n77  77  2015-05-10 18:30:00    Sunday        PARK   \n78  78  2015-05-10 18:30:00    Sunday        PARK   \n79  79  2015-05-10 18:30:00    Sunday        PARK   \n80  80  2015-05-10 18:30:00    Sunday     BAYVIEW   \n81  81  2015-05-10 18:29:00    Sunday     MISSION   \n82  82  2015-05-10 18:15:00    Sunday     TARAVAL   \n83  83  2015-05-10 18:15:00    Sunday     TARAVAL   \n84  84  2015-05-10 18:10:00    Sunday    RICHMOND   \n85  85  2015-05-10 18:00:00    Sunday    RICHMOND   \n86  86  2015-05-10 18:00:00    Sunday    RICHMOND   \n87  87  2015-05-10 18:00:00    Sunday     BAYVIEW   \n88  88  2015-05-10 17:52:00    Sunday     CENTRAL   \n89  89  2015-05-10 17:35:00    Sunday    NORTHERN   \n90  90  2015-05-10 17:30:00    Sunday    SOUTHERN   \n91  91  2015-05-10 17:30:00    Sunday    SOUTHERN   \n92  92  2015-05-10 17:30:00    Sunday   INGLESIDE   \n93  93  2015-05-10 17:30:00    Sunday     MISSION   \n94  94  2015-05-10 17:30:00    Sunday     MISSION   \n95  95  2015-05-10 17:30:00    Sunday    RICHMOND   \n96  96  2015-05-10 17:30:00    Sunday    NORTHERN   \n97  97  2015-05-10 17:29:00    Sunday     BAYVIEW   \n98  98  2015-05-10 17:28:00    Sunday     TARAVAL   \n99  99  2015-05-10 17:17:00    Sunday    SOUTHERN   \n\n                         Address                    X          Y  \n0        2000 Block of THOMAS AV  -122.39958770418998  37.735051  \n1             3RD ST / REVERE AV    -122.391522893042  37.732432  \n2         2000 Block of GOUGH ST    -122.426001954961  37.792212  \n3       4700 Block of MISSION ST    -122.437393972517  37.721412  \n4       4700 Block of MISSION ST    -122.437393972517  37.721412  \n5          BROAD ST / CAPITOL AV  -122.45902362242902  37.713172  \n6        100 Block of CHENERY ST  -122.42561645123001  37.739351  \n7          200 Block of BANKS ST  -122.41265203979201  37.739750  \n8          2900 Block of 16TH ST    -122.418700097043  37.765165  \n9           TAYLOR ST / GREEN ST    -122.413934584561  37.798886  \n10       100 Block of PERALTA AV  -122.40860777448499  37.746787  \n11       600 Block of FLORIDA ST    -122.411093822635  37.761048  \n12       600 Block of FLORIDA ST    -122.411093822635  37.761048  \n13       200 Block of VALLEJO ST    -122.402130610278  37.799364  \n14        JEFFERSON ST / HYDE ST    -122.420747467177  37.807588  \n15      GOLDEN GATE AV / HYDE ST    -122.415508242782  37.781654  \n16        1200 Block of OCEAN AV  -122.45567852962401  37.723702  \n17       1200 Block of GIRARD ST    -122.400298318649  37.717181  \n18     1900 Block of FILLMORE ST    -122.433668534709  37.787709  \n19            GREEN ST / POLK ST    -122.422149614358  37.797824  \n20            GREEN ST / POLK ST    -122.422149614358  37.797824  \n21           15TH ST / FOLSOM ST    -122.415464372874  37.766937  \n22       1800 Block of KEARNY ST    -122.406820555032  37.804828  \n23       200 Block of PEABODY ST  -122.40792248129401  37.709004  \n24        500 Block of HAIGHT ST    -122.431289969136  37.772055  \n25          200 Block of 11TH AV    -122.469906688039  37.783616  \n26        800 Block of FULTON ST    -122.431149073441  37.777698  \n27        800 Block of BRYANT ST  -122.40340479147899  37.775421  \n28     300 Block of LOSPALMOS DR  -122.45067626133002  37.735401  \n29         1800 Block of 15TH AV    -122.472130727218  37.753391  \n..                           ...                  ...        ...  \n70        800 Block of BRYANT ST  -122.40340479147899  37.775421  \n71            GEARY BL / 28TH AV    -122.487946479231  37.779944  \n72            GEARY BL / 28TH AV    -122.487946479231  37.779944  \n73            GEARY BL / 28TH AV    -122.487946479231  37.779944  \n74       OFARRELL ST / POWELL ST    -122.408040474858  37.786409  \n75           600 Block of 9TH AV    -122.467221148771  37.776134  \n76   400 Block of MISSISSIPPI ST  -122.39434290268998  37.760771  \n77         1200 Block of PAGE ST  -122.44139370111401  37.771727  \n78         1200 Block of PAGE ST  -122.44139370111401  37.771727  \n79        2400 Block of GEARY BL     -122.44364285254  37.782918  \n80              7TH ST / 16TH ST    -122.395062849863  37.766544  \n81          16TH ST / MISSION ST    -122.419671780296  37.765050  \n82        600 Block of IRVING ST    -122.464722568832  37.764162  \n83         2300 Block of 42ND AV    -122.500466121213  37.742874  \n84       FULTON ST / LA PLAYA ST     -122.50989299593  37.771394  \n85        3900 Block of GEARY BL    -122.461603688677  37.781018  \n86        3900 Block of GEARY BL    -122.461603688677  37.781018  \n87       700 Block of LECONTE AV    -122.396677554564  37.716722  \n88          GREEN ST / BANNAM PL    -122.407702556181  37.799663  \n89       400 Block of VANNESS AV  -122.42021727334499  37.779151  \n90        800 Block of MARKET ST    -122.407633520742  37.784189  \n91        800 Block of MARKET ST    -122.407633520742  37.784189  \n92          0 Block of DELANO AV  -122.44015982058399  37.727094  \n93  CESAR CHAVEZ ST / POTRERO AV    -122.405096871916  37.749110  \n94  CESAR CHAVEZ ST / POTRERO AV    -122.405096871916  37.749110  \n95      FUNSTON AV / CABRILLO ST    -122.471372908785  37.775025  \n96        FILLMORE ST / GEARY BL    -122.432914603494  37.784353  \n97       1300 Block of THOMAS AV    -122.386594164927  37.727818  \n98       1800 Block of IRVING ST    -122.477696048974  37.763592  \n99        800 Block of BRYANT ST  -122.40340479147899  37.775421  \n\n[100 rows x 7 columns]"
          },
          "metadata": {}
        }
      ]
    },
    {
      "metadata": {
        "trusted": true,
        "scrolled": true
      },
      "cell_type": "code",
      "source": "d.count()",
      "execution_count": 7,
      "outputs": [
        {
          "output_type": "execute_result",
          "execution_count": 7,
          "data": {
            "text/plain": "Id            41199\nDates         41199\nDayOfWeek     41199\nPdDistrict    41199\nAddress       41199\nX             41199\nY             41198\ndtype: int64"
          },
          "metadata": {}
        }
      ]
    },
    {
      "metadata": {
        "trusted": true
      },
      "cell_type": "code",
      "source": "d=d.drop_duplicates()\nd.count()",
      "execution_count": 8,
      "outputs": [
        {
          "output_type": "execute_result",
          "execution_count": 8,
          "data": {
            "text/plain": "Id            41199\nDates         41199\nDayOfWeek     41199\nPdDistrict    41199\nAddress       41199\nX             41199\nY             41198\ndtype: int64"
          },
          "metadata": {}
        }
      ]
    },
    {
      "metadata": {
        "trusted": true,
        "scrolled": true
      },
      "cell_type": "code",
      "source": "f=d.drop(['Address','Id','Dates'],axis='columns')",
      "execution_count": 15,
      "outputs": []
    },
    {
      "metadata": {
        "trusted": true,
        "scrolled": true
      },
      "cell_type": "code",
      "source": "f",
      "execution_count": 16,
      "outputs": [
        {
          "output_type": "execute_result",
          "execution_count": 16,
          "data": {
            "text/html": "<div>\n<style scoped>\n    .dataframe tbody tr th:only-of-type {\n        vertical-align: middle;\n    }\n\n    .dataframe tbody tr th {\n        vertical-align: top;\n    }\n\n    .dataframe thead th {\n        text-align: right;\n    }\n</style>\n<table border=\"1\" class=\"dataframe\">\n  <thead>\n    <tr style=\"text-align: right;\">\n      <th></th>\n      <th>DayOfWeek</th>\n      <th>PdDistrict</th>\n      <th>X</th>\n      <th>Y</th>\n    </tr>\n  </thead>\n  <tbody>\n    <tr>\n      <th>0</th>\n      <td>Sunday</td>\n      <td>BAYVIEW</td>\n      <td>-122.39958770418998</td>\n      <td>37.735051</td>\n    </tr>\n    <tr>\n      <th>1</th>\n      <td>Sunday</td>\n      <td>BAYVIEW</td>\n      <td>-122.391522893042</td>\n      <td>37.732432</td>\n    </tr>\n    <tr>\n      <th>2</th>\n      <td>Sunday</td>\n      <td>NORTHERN</td>\n      <td>-122.426001954961</td>\n      <td>37.792212</td>\n    </tr>\n    <tr>\n      <th>3</th>\n      <td>Sunday</td>\n      <td>INGLESIDE</td>\n      <td>-122.437393972517</td>\n      <td>37.721412</td>\n    </tr>\n    <tr>\n      <th>4</th>\n      <td>Sunday</td>\n      <td>INGLESIDE</td>\n      <td>-122.437393972517</td>\n      <td>37.721412</td>\n    </tr>\n    <tr>\n      <th>5</th>\n      <td>Sunday</td>\n      <td>TARAVAL</td>\n      <td>-122.45902362242902</td>\n      <td>37.713172</td>\n    </tr>\n    <tr>\n      <th>6</th>\n      <td>Sunday</td>\n      <td>INGLESIDE</td>\n      <td>-122.42561645123001</td>\n      <td>37.739351</td>\n    </tr>\n    <tr>\n      <th>7</th>\n      <td>Sunday</td>\n      <td>INGLESIDE</td>\n      <td>-122.41265203979201</td>\n      <td>37.739750</td>\n    </tr>\n    <tr>\n      <th>8</th>\n      <td>Sunday</td>\n      <td>MISSION</td>\n      <td>-122.418700097043</td>\n      <td>37.765165</td>\n    </tr>\n    <tr>\n      <th>9</th>\n      <td>Sunday</td>\n      <td>CENTRAL</td>\n      <td>-122.413934584561</td>\n      <td>37.798886</td>\n    </tr>\n    <tr>\n      <th>10</th>\n      <td>Sunday</td>\n      <td>INGLESIDE</td>\n      <td>-122.40860777448499</td>\n      <td>37.746787</td>\n    </tr>\n    <tr>\n      <th>11</th>\n      <td>Sunday</td>\n      <td>MISSION</td>\n      <td>-122.411093822635</td>\n      <td>37.761048</td>\n    </tr>\n    <tr>\n      <th>12</th>\n      <td>Sunday</td>\n      <td>MISSION</td>\n      <td>-122.411093822635</td>\n      <td>37.761048</td>\n    </tr>\n    <tr>\n      <th>13</th>\n      <td>Sunday</td>\n      <td>CENTRAL</td>\n      <td>-122.402130610278</td>\n      <td>37.799364</td>\n    </tr>\n    <tr>\n      <th>14</th>\n      <td>Sunday</td>\n      <td>CENTRAL</td>\n      <td>-122.420747467177</td>\n      <td>37.807588</td>\n    </tr>\n    <tr>\n      <th>15</th>\n      <td>Sunday</td>\n      <td>TENDERLOIN</td>\n      <td>-122.415508242782</td>\n      <td>37.781654</td>\n    </tr>\n    <tr>\n      <th>16</th>\n      <td>Sunday</td>\n      <td>TARAVAL</td>\n      <td>-122.45567852962401</td>\n      <td>37.723702</td>\n    </tr>\n    <tr>\n      <th>17</th>\n      <td>Sunday</td>\n      <td>INGLESIDE</td>\n      <td>-122.400298318649</td>\n      <td>37.717181</td>\n    </tr>\n    <tr>\n      <th>18</th>\n      <td>Sunday</td>\n      <td>NORTHERN</td>\n      <td>-122.433668534709</td>\n      <td>37.787709</td>\n    </tr>\n    <tr>\n      <th>19</th>\n      <td>Sunday</td>\n      <td>NORTHERN</td>\n      <td>-122.422149614358</td>\n      <td>37.797824</td>\n    </tr>\n    <tr>\n      <th>20</th>\n      <td>Sunday</td>\n      <td>NORTHERN</td>\n      <td>-122.422149614358</td>\n      <td>37.797824</td>\n    </tr>\n    <tr>\n      <th>21</th>\n      <td>Sunday</td>\n      <td>MISSION</td>\n      <td>-122.415464372874</td>\n      <td>37.766937</td>\n    </tr>\n    <tr>\n      <th>22</th>\n      <td>Sunday</td>\n      <td>CENTRAL</td>\n      <td>-122.406820555032</td>\n      <td>37.804828</td>\n    </tr>\n    <tr>\n      <th>23</th>\n      <td>Sunday</td>\n      <td>INGLESIDE</td>\n      <td>-122.40792248129401</td>\n      <td>37.709004</td>\n    </tr>\n    <tr>\n      <th>24</th>\n      <td>Sunday</td>\n      <td>NORTHERN</td>\n      <td>-122.431289969136</td>\n      <td>37.772055</td>\n    </tr>\n    <tr>\n      <th>25</th>\n      <td>Sunday</td>\n      <td>RICHMOND</td>\n      <td>-122.469906688039</td>\n      <td>37.783616</td>\n    </tr>\n    <tr>\n      <th>26</th>\n      <td>Sunday</td>\n      <td>NORTHERN</td>\n      <td>-122.431149073441</td>\n      <td>37.777698</td>\n    </tr>\n    <tr>\n      <th>27</th>\n      <td>Sunday</td>\n      <td>SOUTHERN</td>\n      <td>-122.40340479147899</td>\n      <td>37.775421</td>\n    </tr>\n    <tr>\n      <th>28</th>\n      <td>Sunday</td>\n      <td>INGLESIDE</td>\n      <td>-122.45067626133002</td>\n      <td>37.735401</td>\n    </tr>\n    <tr>\n      <th>29</th>\n      <td>Sunday</td>\n      <td>TARAVAL</td>\n      <td>-122.472130727218</td>\n      <td>37.753391</td>\n    </tr>\n    <tr>\n      <th>...</th>\n      <td>...</td>\n      <td>...</td>\n      <td>...</td>\n      <td>...</td>\n    </tr>\n    <tr>\n      <th>41169</th>\n      <td>Sunday</td>\n      <td>SOUTHERN</td>\n      <td>-122.402070243227</td>\n      <td>37.788720</td>\n    </tr>\n    <tr>\n      <th>41170</th>\n      <td>Sunday</td>\n      <td>SOUTHERN</td>\n      <td>-122.413287527194</td>\n      <td>37.771196</td>\n    </tr>\n    <tr>\n      <th>41171</th>\n      <td>Sunday</td>\n      <td>BAYVIEW</td>\n      <td>-122.388078475154</td>\n      <td>37.732443</td>\n    </tr>\n    <tr>\n      <th>41172</th>\n      <td>Sunday</td>\n      <td>BAYVIEW</td>\n      <td>-122.388078475154</td>\n      <td>37.732443</td>\n    </tr>\n    <tr>\n      <th>41173</th>\n      <td>Sunday</td>\n      <td>NORTHERN</td>\n      <td>-122.420515681408</td>\n      <td>37.789384</td>\n    </tr>\n    <tr>\n      <th>41174</th>\n      <td>Sunday</td>\n      <td>NORTHERN</td>\n      <td>-122.43579598944599</td>\n      <td>37.798257</td>\n    </tr>\n    <tr>\n      <th>41175</th>\n      <td>Sunday</td>\n      <td>SOUTHERN</td>\n      <td>-122.40340479147899</td>\n      <td>37.775421</td>\n    </tr>\n    <tr>\n      <th>41176</th>\n      <td>Sunday</td>\n      <td>CENTRAL</td>\n      <td>-122.40880996045401</td>\n      <td>37.798571</td>\n    </tr>\n    <tr>\n      <th>41177</th>\n      <td>Sunday</td>\n      <td>BAYVIEW</td>\n      <td>-122.395635436168</td>\n      <td>37.753565</td>\n    </tr>\n    <tr>\n      <th>41178</th>\n      <td>Sunday</td>\n      <td>BAYVIEW</td>\n      <td>-122.395635436168</td>\n      <td>37.753565</td>\n    </tr>\n    <tr>\n      <th>41179</th>\n      <td>Sunday</td>\n      <td>SOUTHERN</td>\n      <td>-122.410507458268</td>\n      <td>37.777093</td>\n    </tr>\n    <tr>\n      <th>41180</th>\n      <td>Sunday</td>\n      <td>MISSION</td>\n      <td>-122.41812008648998</td>\n      <td>37.760301</td>\n    </tr>\n    <tr>\n      <th>41181</th>\n      <td>Sunday</td>\n      <td>INGLESIDE</td>\n      <td>-122.43168151491001</td>\n      <td>37.725247</td>\n    </tr>\n    <tr>\n      <th>41182</th>\n      <td>Sunday</td>\n      <td>INGLESIDE</td>\n      <td>-122.419374719759</td>\n      <td>37.746504</td>\n    </tr>\n    <tr>\n      <th>41183</th>\n      <td>Sunday</td>\n      <td>NORTHERN</td>\n      <td>-122.436797742278</td>\n      <td>37.800803</td>\n    </tr>\n    <tr>\n      <th>41184</th>\n      <td>Sunday</td>\n      <td>TENDERLOIN</td>\n      <td>-122.41013523637699</td>\n      <td>37.784189</td>\n    </tr>\n    <tr>\n      <th>41185</th>\n      <td>Sunday</td>\n      <td>SOUTHERN</td>\n      <td>-122.399826049876</td>\n      <td>37.786301</td>\n    </tr>\n    <tr>\n      <th>41186</th>\n      <td>Sunday</td>\n      <td>PARK</td>\n      <td>-122.440504989739</td>\n      <td>37.775661</td>\n    </tr>\n    <tr>\n      <th>41187</th>\n      <td>Sunday</td>\n      <td>TARAVAL</td>\n      <td>-122.48118317163001</td>\n      <td>37.743727</td>\n    </tr>\n    <tr>\n      <th>41188</th>\n      <td>Sunday</td>\n      <td>PARK</td>\n      <td>-122.446933310975</td>\n      <td>37.770006</td>\n    </tr>\n    <tr>\n      <th>41189</th>\n      <td>Sunday</td>\n      <td>MISSION</td>\n      <td>-122.42236740956301</td>\n      <td>37.769868</td>\n    </tr>\n    <tr>\n      <th>41190</th>\n      <td>Sunday</td>\n      <td>NORTHERN</td>\n      <td>-122.429850411503</td>\n      <td>37.777918</td>\n    </tr>\n    <tr>\n      <th>41191</th>\n      <td>Sunday</td>\n      <td>TARAVAL</td>\n      <td>-122.48118317163001</td>\n      <td>37.743727</td>\n    </tr>\n    <tr>\n      <th>41192</th>\n      <td>Sunday</td>\n      <td>TARAVAL</td>\n      <td>-122.48118317163001</td>\n      <td>37.743727</td>\n    </tr>\n    <tr>\n      <th>41193</th>\n      <td>Sunday</td>\n      <td>NORTHERN</td>\n      <td>-122.422472490035</td>\n      <td>37.803569</td>\n    </tr>\n    <tr>\n      <th>41194</th>\n      <td>Sunday</td>\n      <td>NORTHERN</td>\n      <td>-122.422472490035</td>\n      <td>37.803569</td>\n    </tr>\n    <tr>\n      <th>41195</th>\n      <td>Sunday</td>\n      <td>CENTRAL</td>\n      <td>-122.408924999704</td>\n      <td>37.804717</td>\n    </tr>\n    <tr>\n      <th>41196</th>\n      <td>Sunday</td>\n      <td>PARK</td>\n      <td>-122.446612978839</td>\n      <td>37.782246</td>\n    </tr>\n    <tr>\n      <th>41197</th>\n      <td>Sunday</td>\n      <td>NORTHERN</td>\n      <td>-122.43607183338699</td>\n      <td>37.799622</td>\n    </tr>\n    <tr>\n      <th>41198</th>\n      <td>Sunday</td>\n      <td>MISSION</td>\n      <td>-</td>\n      <td>NaN</td>\n    </tr>\n  </tbody>\n</table>\n<p>41199 rows × 4 columns</p>\n</div>",
            "text/plain": "      DayOfWeek  PdDistrict                    X          Y\n0        Sunday     BAYVIEW  -122.39958770418998  37.735051\n1        Sunday     BAYVIEW    -122.391522893042  37.732432\n2        Sunday    NORTHERN    -122.426001954961  37.792212\n3        Sunday   INGLESIDE    -122.437393972517  37.721412\n4        Sunday   INGLESIDE    -122.437393972517  37.721412\n5        Sunday     TARAVAL  -122.45902362242902  37.713172\n6        Sunday   INGLESIDE  -122.42561645123001  37.739351\n7        Sunday   INGLESIDE  -122.41265203979201  37.739750\n8        Sunday     MISSION    -122.418700097043  37.765165\n9        Sunday     CENTRAL    -122.413934584561  37.798886\n10       Sunday   INGLESIDE  -122.40860777448499  37.746787\n11       Sunday     MISSION    -122.411093822635  37.761048\n12       Sunday     MISSION    -122.411093822635  37.761048\n13       Sunday     CENTRAL    -122.402130610278  37.799364\n14       Sunday     CENTRAL    -122.420747467177  37.807588\n15       Sunday  TENDERLOIN    -122.415508242782  37.781654\n16       Sunday     TARAVAL  -122.45567852962401  37.723702\n17       Sunday   INGLESIDE    -122.400298318649  37.717181\n18       Sunday    NORTHERN    -122.433668534709  37.787709\n19       Sunday    NORTHERN    -122.422149614358  37.797824\n20       Sunday    NORTHERN    -122.422149614358  37.797824\n21       Sunday     MISSION    -122.415464372874  37.766937\n22       Sunday     CENTRAL    -122.406820555032  37.804828\n23       Sunday   INGLESIDE  -122.40792248129401  37.709004\n24       Sunday    NORTHERN    -122.431289969136  37.772055\n25       Sunday    RICHMOND    -122.469906688039  37.783616\n26       Sunday    NORTHERN    -122.431149073441  37.777698\n27       Sunday    SOUTHERN  -122.40340479147899  37.775421\n28       Sunday   INGLESIDE  -122.45067626133002  37.735401\n29       Sunday     TARAVAL    -122.472130727218  37.753391\n...         ...         ...                  ...        ...\n41169    Sunday    SOUTHERN    -122.402070243227  37.788720\n41170    Sunday    SOUTHERN    -122.413287527194  37.771196\n41171    Sunday     BAYVIEW    -122.388078475154  37.732443\n41172    Sunday     BAYVIEW    -122.388078475154  37.732443\n41173    Sunday    NORTHERN    -122.420515681408  37.789384\n41174    Sunday    NORTHERN  -122.43579598944599  37.798257\n41175    Sunday    SOUTHERN  -122.40340479147899  37.775421\n41176    Sunday     CENTRAL  -122.40880996045401  37.798571\n41177    Sunday     BAYVIEW    -122.395635436168  37.753565\n41178    Sunday     BAYVIEW    -122.395635436168  37.753565\n41179    Sunday    SOUTHERN    -122.410507458268  37.777093\n41180    Sunday     MISSION  -122.41812008648998  37.760301\n41181    Sunday   INGLESIDE  -122.43168151491001  37.725247\n41182    Sunday   INGLESIDE    -122.419374719759  37.746504\n41183    Sunday    NORTHERN    -122.436797742278  37.800803\n41184    Sunday  TENDERLOIN  -122.41013523637699  37.784189\n41185    Sunday    SOUTHERN    -122.399826049876  37.786301\n41186    Sunday        PARK    -122.440504989739  37.775661\n41187    Sunday     TARAVAL  -122.48118317163001  37.743727\n41188    Sunday        PARK    -122.446933310975  37.770006\n41189    Sunday     MISSION  -122.42236740956301  37.769868\n41190    Sunday    NORTHERN    -122.429850411503  37.777918\n41191    Sunday     TARAVAL  -122.48118317163001  37.743727\n41192    Sunday     TARAVAL  -122.48118317163001  37.743727\n41193    Sunday    NORTHERN    -122.422472490035  37.803569\n41194    Sunday    NORTHERN    -122.422472490035  37.803569\n41195    Sunday     CENTRAL    -122.408924999704  37.804717\n41196    Sunday        PARK    -122.446612978839  37.782246\n41197    Sunday    NORTHERN  -122.43607183338699  37.799622\n41198    Sunday     MISSION                    -        NaN\n\n[41199 rows x 4 columns]"
          },
          "metadata": {}
        }
      ]
    },
    {
      "metadata": {
        "trusted": true
      },
      "cell_type": "code",
      "source": "",
      "execution_count": null,
      "outputs": []
    },
    {
      "metadata": {
        "trusted": true
      },
      "cell_type": "code",
      "source": "",
      "execution_count": null,
      "outputs": []
    },
    {
      "metadata": {
        "trusted": true
      },
      "cell_type": "code",
      "source": "d['PdDistrict'].nunique()",
      "execution_count": 17,
      "outputs": [
        {
          "output_type": "execute_result",
          "execution_count": 17,
          "data": {
            "text/plain": "10"
          },
          "metadata": {}
        }
      ]
    },
    {
      "metadata": {
        "trusted": true
      },
      "cell_type": "code",
      "source": "d['Address'].nunique()",
      "execution_count": 18,
      "outputs": [
        {
          "output_type": "execute_result",
          "execution_count": 18,
          "data": {
            "text/plain": "9924"
          },
          "metadata": {}
        }
      ]
    },
    {
      "metadata": {
        "trusted": true
      },
      "cell_type": "code",
      "source": "d['X'].max()",
      "execution_count": 19,
      "outputs": [
        {
          "output_type": "execute_result",
          "execution_count": 19,
          "data": {
            "text/plain": "'-122.513642064265'"
          },
          "metadata": {}
        }
      ]
    },
    {
      "metadata": {
        "trusted": true
      },
      "cell_type": "code",
      "source": "d['X'].nunique()",
      "execution_count": 20,
      "outputs": [
        {
          "output_type": "execute_result",
          "execution_count": 20,
          "data": {
            "text/plain": "11052"
          },
          "metadata": {}
        }
      ]
    },
    {
      "metadata": {
        "trusted": true
      },
      "cell_type": "code",
      "source": "df=pd.DataFrame(d[\"Address\"].value_counts())",
      "execution_count": 21,
      "outputs": []
    },
    {
      "metadata": {
        "trusted": true,
        "scrolled": true
      },
      "cell_type": "code",
      "source": "df",
      "execution_count": 22,
      "outputs": [
        {
          "output_type": "execute_result",
          "execution_count": 22,
          "data": {
            "text/html": "<div>\n<style scoped>\n    .dataframe tbody tr th:only-of-type {\n        vertical-align: middle;\n    }\n\n    .dataframe tbody tr th {\n        vertical-align: top;\n    }\n\n    .dataframe thead th {\n        text-align: right;\n    }\n</style>\n<table border=\"1\" class=\"dataframe\">\n  <thead>\n    <tr style=\"text-align: right;\">\n      <th></th>\n      <th>Address</th>\n    </tr>\n  </thead>\n  <tbody>\n    <tr>\n      <th>800 Block of BRYANT ST</th>\n      <td>1188</td>\n    </tr>\n    <tr>\n      <th>800 Block of MARKET ST</th>\n      <td>374</td>\n    </tr>\n    <tr>\n      <th>1000 Block of POTRERO AV</th>\n      <td>281</td>\n    </tr>\n    <tr>\n      <th>16TH ST / MISSION ST</th>\n      <td>170</td>\n    </tr>\n    <tr>\n      <th>2000 Block of MISSION ST</th>\n      <td>165</td>\n    </tr>\n    <tr>\n      <th>500 Block of JOHNFKENNEDY DR</th>\n      <td>155</td>\n    </tr>\n    <tr>\n      <th>900 Block of MARKET ST</th>\n      <td>132</td>\n    </tr>\n    <tr>\n      <th>100 Block of OFARRELL ST</th>\n      <td>122</td>\n    </tr>\n    <tr>\n      <th>700 Block of MARKET ST</th>\n      <td>121</td>\n    </tr>\n    <tr>\n      <th>0 Block of UNITEDNATIONS PZ</th>\n      <td>119</td>\n    </tr>\n    <tr>\n      <th>3200 Block of 20TH AV</th>\n      <td>116</td>\n    </tr>\n    <tr>\n      <th>300 Block of EDDY ST</th>\n      <td>103</td>\n    </tr>\n    <tr>\n      <th>1000 Block of MARKET ST</th>\n      <td>103</td>\n    </tr>\n    <tr>\n      <th>400 Block of ELLIS ST</th>\n      <td>91</td>\n    </tr>\n    <tr>\n      <th>1100 Block of FILLMORE ST</th>\n      <td>89</td>\n    </tr>\n    <tr>\n      <th>400 Block of CASTRO ST</th>\n      <td>89</td>\n    </tr>\n    <tr>\n      <th>700 Block of MISSION ST</th>\n      <td>86</td>\n    </tr>\n    <tr>\n      <th>0 Block of MOSS ST</th>\n      <td>86</td>\n    </tr>\n    <tr>\n      <th>100 Block of EDDY ST</th>\n      <td>85</td>\n    </tr>\n    <tr>\n      <th>2000 Block of MARKET ST</th>\n      <td>84</td>\n    </tr>\n    <tr>\n      <th>0 Block of POWELL ST</th>\n      <td>83</td>\n    </tr>\n    <tr>\n      <th>200 Block of INTERSTATE80 HY</th>\n      <td>82</td>\n    </tr>\n    <tr>\n      <th>400 Block of STOCKTON ST</th>\n      <td>78</td>\n    </tr>\n    <tr>\n      <th>400 Block of 6TH AV</th>\n      <td>77</td>\n    </tr>\n    <tr>\n      <th>0 Block of 6TH ST</th>\n      <td>76</td>\n    </tr>\n    <tr>\n      <th>900 Block of POTRERO AV</th>\n      <td>74</td>\n    </tr>\n    <tr>\n      <th>0 Block of TURK ST</th>\n      <td>74</td>\n    </tr>\n    <tr>\n      <th>100 Block of 3RD ST</th>\n      <td>71</td>\n    </tr>\n    <tr>\n      <th>1300 Block of WEBSTER ST</th>\n      <td>71</td>\n    </tr>\n    <tr>\n      <th>600 Block of VALENCIA ST</th>\n      <td>69</td>\n    </tr>\n    <tr>\n      <th>...</th>\n      <td>...</td>\n    </tr>\n    <tr>\n      <th>HAYES ST / LAGUNA ST</th>\n      <td>1</td>\n    </tr>\n    <tr>\n      <th>GOLDEN GATE AV / TEMESCAL TR</th>\n      <td>1</td>\n    </tr>\n    <tr>\n      <th>0 Block of TIOGA AV</th>\n      <td>1</td>\n    </tr>\n    <tr>\n      <th>300 Block of HANOVER ST</th>\n      <td>1</td>\n    </tr>\n    <tr>\n      <th>TWINPEAKS BL / RACOON DR</th>\n      <td>1</td>\n    </tr>\n    <tr>\n      <th>1600 Block of 33RD AV</th>\n      <td>1</td>\n    </tr>\n    <tr>\n      <th>23RD AV / MORAGA ST</th>\n      <td>1</td>\n    </tr>\n    <tr>\n      <th>1000 Block of FRONT ST</th>\n      <td>1</td>\n    </tr>\n    <tr>\n      <th>CENTRAL AV / MCALLISTER ST</th>\n      <td>1</td>\n    </tr>\n    <tr>\n      <th>2000 Block of NEWCOMB AV</th>\n      <td>1</td>\n    </tr>\n    <tr>\n      <th>100 Block of JORDAN AV</th>\n      <td>1</td>\n    </tr>\n    <tr>\n      <th>1700 Block of SILLIMAN ST</th>\n      <td>1</td>\n    </tr>\n    <tr>\n      <th>CESAR CHAVEZ ST / DOLORES ST</th>\n      <td>1</td>\n    </tr>\n    <tr>\n      <th>17TH ST / ALABAMA ST</th>\n      <td>1</td>\n    </tr>\n    <tr>\n      <th>GREEN ST / STOCKTON ST</th>\n      <td>1</td>\n    </tr>\n    <tr>\n      <th>18TH ST / HARTFORD ST</th>\n      <td>1</td>\n    </tr>\n    <tr>\n      <th>PARKER AV / ANZA ST</th>\n      <td>1</td>\n    </tr>\n    <tr>\n      <th>20TH ST / CAPP ST</th>\n      <td>1</td>\n    </tr>\n    <tr>\n      <th>4TH ST / BLUXOME ST</th>\n      <td>1</td>\n    </tr>\n    <tr>\n      <th>CLEMENT ST / 2ND AV</th>\n      <td>1</td>\n    </tr>\n    <tr>\n      <th>LARKIN ST / BEACH ST</th>\n      <td>1</td>\n    </tr>\n    <tr>\n      <th>MINNA ST / 3RD ST</th>\n      <td>1</td>\n    </tr>\n    <tr>\n      <th>TRANSVERSE DR / JOHNFKENNEDY DR</th>\n      <td>1</td>\n    </tr>\n    <tr>\n      <th>1600 Block of 10TH AV</th>\n      <td>1</td>\n    </tr>\n    <tr>\n      <th>100 Block of SOUTHWOOD DR</th>\n      <td>1</td>\n    </tr>\n    <tr>\n      <th>2500 Block of VALLEJO ST</th>\n      <td>1</td>\n    </tr>\n    <tr>\n      <th>NEWHALL ST / TOPEKA AV</th>\n      <td>1</td>\n    </tr>\n    <tr>\n      <th>PIERCE ST / PAGE ST</th>\n      <td>1</td>\n    </tr>\n    <tr>\n      <th>100 Block of SANTACLARA AV</th>\n      <td>1</td>\n    </tr>\n    <tr>\n      <th>MIRABEL AV / COSO AV</th>\n      <td>1</td>\n    </tr>\n  </tbody>\n</table>\n<p>9924 rows × 1 columns</p>\n</div>",
            "text/plain": "                                 Address\n800 Block of BRYANT ST              1188\n800 Block of MARKET ST               374\n1000 Block of POTRERO AV             281\n16TH ST / MISSION ST                 170\n2000 Block of MISSION ST             165\n500 Block of JOHNFKENNEDY DR         155\n900 Block of MARKET ST               132\n100 Block of OFARRELL ST             122\n700 Block of MARKET ST               121\n0 Block of UNITEDNATIONS PZ          119\n3200 Block of 20TH AV                116\n300 Block of EDDY ST                 103\n1000 Block of MARKET ST              103\n400 Block of ELLIS ST                 91\n1100 Block of FILLMORE ST             89\n400 Block of CASTRO ST                89\n700 Block of MISSION ST               86\n0 Block of MOSS ST                    86\n100 Block of EDDY ST                  85\n2000 Block of MARKET ST               84\n0 Block of POWELL ST                  83\n200 Block of INTERSTATE80 HY          82\n400 Block of STOCKTON ST              78\n400 Block of 6TH AV                   77\n0 Block of 6TH ST                     76\n900 Block of POTRERO AV               74\n0 Block of TURK ST                    74\n100 Block of 3RD ST                   71\n1300 Block of WEBSTER ST              71\n600 Block of VALENCIA ST              69\n...                                  ...\nHAYES ST / LAGUNA ST                   1\nGOLDEN GATE AV / TEMESCAL TR           1\n0 Block of TIOGA AV                    1\n300 Block of HANOVER ST                1\nTWINPEAKS BL / RACOON DR               1\n1600 Block of 33RD AV                  1\n23RD AV / MORAGA ST                    1\n1000 Block of FRONT ST                 1\nCENTRAL AV / MCALLISTER ST             1\n2000 Block of NEWCOMB AV               1\n100 Block of JORDAN AV                 1\n1700 Block of SILLIMAN ST              1\nCESAR CHAVEZ ST / DOLORES ST           1\n17TH ST / ALABAMA ST                   1\nGREEN ST / STOCKTON ST                 1\n18TH ST / HARTFORD ST                  1\nPARKER AV / ANZA ST                    1\n20TH ST / CAPP ST                      1\n4TH ST / BLUXOME ST                    1\nCLEMENT ST / 2ND AV                    1\nLARKIN ST / BEACH ST                   1\nMINNA ST / 3RD ST                      1\nTRANSVERSE DR / JOHNFKENNEDY DR        1\n1600 Block of 10TH AV                  1\n100 Block of SOUTHWOOD DR              1\n2500 Block of VALLEJO ST               1\nNEWHALL ST / TOPEKA AV                 1\nPIERCE ST / PAGE ST                    1\n100 Block of SANTACLARA AV             1\nMIRABEL AV / COSO AV                   1\n\n[9924 rows x 1 columns]"
          },
          "metadata": {}
        }
      ]
    },
    {
      "metadata": {
        "trusted": true
      },
      "cell_type": "code",
      "source": "df1=pd.DataFrame(d[\"PdDistrict\"].value_counts())",
      "execution_count": 23,
      "outputs": []
    },
    {
      "metadata": {
        "trusted": true
      },
      "cell_type": "code",
      "source": "df1",
      "execution_count": 24,
      "outputs": [
        {
          "output_type": "execute_result",
          "execution_count": 24,
          "data": {
            "text/html": "<div>\n<style scoped>\n    .dataframe tbody tr th:only-of-type {\n        vertical-align: middle;\n    }\n\n    .dataframe tbody tr th {\n        vertical-align: top;\n    }\n\n    .dataframe thead th {\n        text-align: right;\n    }\n</style>\n<table border=\"1\" class=\"dataframe\">\n  <thead>\n    <tr style=\"text-align: right;\">\n      <th></th>\n      <th>PdDistrict</th>\n    </tr>\n  </thead>\n  <tbody>\n    <tr>\n      <th>SOUTHERN</th>\n      <td>7911</td>\n    </tr>\n    <tr>\n      <th>NORTHERN</th>\n      <td>5351</td>\n    </tr>\n    <tr>\n      <th>MISSION</th>\n      <td>5069</td>\n    </tr>\n    <tr>\n      <th>CENTRAL</th>\n      <td>4820</td>\n    </tr>\n    <tr>\n      <th>BAYVIEW</th>\n      <td>3692</td>\n    </tr>\n    <tr>\n      <th>INGLESIDE</th>\n      <td>3608</td>\n    </tr>\n    <tr>\n      <th>TARAVAL</th>\n      <td>3052</td>\n    </tr>\n    <tr>\n      <th>TENDERLOIN</th>\n      <td>3022</td>\n    </tr>\n    <tr>\n      <th>RICHMOND</th>\n      <td>2405</td>\n    </tr>\n    <tr>\n      <th>PARK</th>\n      <td>2269</td>\n    </tr>\n  </tbody>\n</table>\n</div>",
            "text/plain": "            PdDistrict\nSOUTHERN          7911\nNORTHERN          5351\nMISSION           5069\nCENTRAL           4820\nBAYVIEW           3692\nINGLESIDE         3608\nTARAVAL           3052\nTENDERLOIN        3022\nRICHMOND          2405\nPARK              2269"
          },
          "metadata": {}
        }
      ]
    },
    {
      "metadata": {
        "trusted": true
      },
      "cell_type": "code",
      "source": "df2=pd.DataFrame(d[\"DayOfWeek\"].value_counts())",
      "execution_count": 25,
      "outputs": []
    },
    {
      "metadata": {
        "trusted": true
      },
      "cell_type": "code",
      "source": "df2",
      "execution_count": 26,
      "outputs": [
        {
          "output_type": "execute_result",
          "execution_count": 26,
          "data": {
            "text/html": "<div>\n<style scoped>\n    .dataframe tbody tr th:only-of-type {\n        vertical-align: middle;\n    }\n\n    .dataframe tbody tr th {\n        vertical-align: top;\n    }\n\n    .dataframe thead th {\n        text-align: right;\n    }\n</style>\n<table border=\"1\" class=\"dataframe\">\n  <thead>\n    <tr style=\"text-align: right;\">\n      <th></th>\n      <th>DayOfWeek</th>\n    </tr>\n  </thead>\n  <tbody>\n    <tr>\n      <th>Friday</th>\n      <td>6216</td>\n    </tr>\n    <tr>\n      <th>Saturday</th>\n      <td>6067</td>\n    </tr>\n    <tr>\n      <th>Sunday</th>\n      <td>5936</td>\n    </tr>\n    <tr>\n      <th>Wednesday</th>\n      <td>5865</td>\n    </tr>\n    <tr>\n      <th>Thursday</th>\n      <td>5845</td>\n    </tr>\n    <tr>\n      <th>Tuesday</th>\n      <td>5637</td>\n    </tr>\n    <tr>\n      <th>Monday</th>\n      <td>5633</td>\n    </tr>\n  </tbody>\n</table>\n</div>",
            "text/plain": "           DayOfWeek\nFriday          6216\nSaturday        6067\nSunday          5936\nWednesday       5865\nThursday        5845\nTuesday         5637\nMonday          5633"
          },
          "metadata": {}
        }
      ]
    },
    {
      "metadata": {
        "trusted": true
      },
      "cell_type": "code",
      "source": "import matplotlib.pyplot as plt\n%matplotlib inline\nimport seaborn as snm",
      "execution_count": 27,
      "outputs": []
    },
    {
      "metadata": {
        "trusted": true
      },
      "cell_type": "code",
      "source": "snm.\n",
      "execution_count": 28,
      "outputs": [
        {
          "output_type": "error",
          "ename": "SyntaxError",
          "evalue": "invalid syntax (<ipython-input-28-c83b7589e25f>, line 1)",
          "traceback": [
            "\u001b[0;36m  File \u001b[0;32m\"<ipython-input-28-c83b7589e25f>\"\u001b[0;36m, line \u001b[0;32m1\u001b[0m\n\u001b[0;31m    snm.\u001b[0m\n\u001b[0m        ^\u001b[0m\n\u001b[0;31mSyntaxError\u001b[0m\u001b[0;31m:\u001b[0m invalid syntax\n"
          ]
        }
      ]
    },
    {
      "metadata": {
        "trusted": true
      },
      "cell_type": "code",
      "source": "plt.scatter(df1.PdDistrict,df1.index,marker='+')",
      "execution_count": 29,
      "outputs": [
        {
          "output_type": "execute_result",
          "execution_count": 29,
          "data": {
            "text/plain": "<matplotlib.collections.PathCollection at 0x7f31fd5746d8>"
          },
          "metadata": {}
        },
        {
          "output_type": "display_data",
          "data": {
            "image/png": "[encoded data removed]",
            "text/plain": "<Figure size 432x288 with 1 Axes>"
          },
          "metadata": {
            "needs_background": "light"
          }
        }
      ]
    },
    {
      "metadata": {
        "trusted": true
      },
      "cell_type": "code",
      "source": "from sklearn.preprocessing import LabelEncoder\nday=LabelEncoder()\ndist=LabelEncoder()\nad=LabelEncoder()",
      "execution_count": 30,
      "outputs": []
    },
    {
      "metadata": {
        "trusted": true
      },
      "cell_type": "code",
      "source": "d['days']=day.fit_transform(d[\"DayOfWeek\"])\nd['add']=ad.fit_transform(d[\"Address\"])\nd['distt']=dist.fit_transform(d[\"PdDistrict\"])",
      "execution_count": 31,
      "outputs": []
    },
    {
      "metadata": {
        "trusted": true
      },
      "cell_type": "code",
      "source": "d.head()",
      "execution_count": 32,
      "outputs": [
        {
          "output_type": "execute_result",
          "execution_count": 32,
          "data": {
            "text/html": "<div>\n<style scoped>\n    .dataframe tbody tr th:only-of-type {\n        vertical-align: middle;\n    }\n\n    .dataframe tbody tr th {\n        vertical-align: top;\n    }\n\n    .dataframe thead th {\n        text-align: right;\n    }\n</style>\n<table border=\"1\" class=\"dataframe\">\n  <thead>\n    <tr style=\"text-align: right;\">\n      <th></th>\n      <th>Id</th>\n      <th>Dates</th>\n      <th>DayOfWeek</th>\n      <th>PdDistrict</th>\n      <th>Address</th>\n      <th>X</th>\n      <th>Y</th>\n      <th>days</th>\n      <th>add</th>\n      <th>distt</th>\n    </tr>\n  </thead>\n  <tbody>\n    <tr>\n      <th>0</th>\n      <td>0</td>\n      <td>2015-05-10 23:59:00</td>\n      <td>Sunday</td>\n      <td>BAYVIEW</td>\n      <td>2000 Block of THOMAS AV</td>\n      <td>-122.39958770418998</td>\n      <td>37.735051</td>\n      <td>3</td>\n      <td>3288</td>\n      <td>0</td>\n    </tr>\n    <tr>\n      <th>1</th>\n      <td>1</td>\n      <td>2015-05-10 23:51:00</td>\n      <td>Sunday</td>\n      <td>BAYVIEW</td>\n      <td>3RD ST / REVERE AV</td>\n      <td>-122.391522893042</td>\n      <td>37.732432</td>\n      <td>3</td>\n      <td>4828</td>\n      <td>0</td>\n    </tr>\n    <tr>\n      <th>2</th>\n      <td>2</td>\n      <td>2015-05-10 23:50:00</td>\n      <td>Sunday</td>\n      <td>NORTHERN</td>\n      <td>2000 Block of GOUGH ST</td>\n      <td>-122.426001954961</td>\n      <td>37.792212</td>\n      <td>3</td>\n      <td>3243</td>\n      <td>4</td>\n    </tr>\n    <tr>\n      <th>3</th>\n      <td>3</td>\n      <td>2015-05-10 23:45:00</td>\n      <td>Sunday</td>\n      <td>INGLESIDE</td>\n      <td>4700 Block of MISSION ST</td>\n      <td>-122.437393972517</td>\n      <td>37.721412</td>\n      <td>3</td>\n      <td>5237</td>\n      <td>2</td>\n    </tr>\n    <tr>\n      <th>4</th>\n      <td>4</td>\n      <td>2015-05-10 23:45:00</td>\n      <td>Sunday</td>\n      <td>INGLESIDE</td>\n      <td>4700 Block of MISSION ST</td>\n      <td>-122.437393972517</td>\n      <td>37.721412</td>\n      <td>3</td>\n      <td>5237</td>\n      <td>2</td>\n    </tr>\n  </tbody>\n</table>\n</div>",
            "text/plain": "   Id                Dates DayOfWeek PdDistrict                   Address  \\\n0   0  2015-05-10 23:59:00    Sunday    BAYVIEW   2000 Block of THOMAS AV   \n1   1  2015-05-10 23:51:00    Sunday    BAYVIEW        3RD ST / REVERE AV   \n2   2  2015-05-10 23:50:00    Sunday   NORTHERN    2000 Block of GOUGH ST   \n3   3  2015-05-10 23:45:00    Sunday  INGLESIDE  4700 Block of MISSION ST   \n4   4  2015-05-10 23:45:00    Sunday  INGLESIDE  4700 Block of MISSION ST   \n\n                     X          Y  days   add  distt  \n0  -122.39958770418998  37.735051     3  3288      0  \n1    -122.391522893042  37.732432     3  4828      0  \n2    -122.426001954961  37.792212     3  3243      4  \n3    -122.437393972517  37.721412     3  5237      2  \n4    -122.437393972517  37.721412     3  5237      2  "
          },
          "metadata": {}
        }
      ]
    },
    {
      "metadata": {
        "trusted": true
      },
      "cell_type": "code",
      "source": "new=d.drop([\"DayOfWeek\",\"PdDistrict\",\"Address\",\"Id\"],axis='columns')",
      "execution_count": 33,
      "outputs": []
    },
    {
      "metadata": {
        "trusted": true,
        "scrolled": true
      },
      "cell_type": "code",
      "source": "new.head()",
      "execution_count": 34,
      "outputs": [
        {
          "output_type": "execute_result",
          "execution_count": 34,
          "data": {
            "text/html": "<div>\n<style scoped>\n    .dataframe tbody tr th:only-of-type {\n        vertical-align: middle;\n    }\n\n    .dataframe tbody tr th {\n        vertical-align: top;\n    }\n\n    .dataframe thead th {\n        text-align: right;\n    }\n</style>\n<table border=\"1\" class=\"dataframe\">\n  <thead>\n    <tr style=\"text-align: right;\">\n      <th></th>\n      <th>Dates</th>\n      <th>X</th>\n      <th>Y</th>\n      <th>days</th>\n      <th>add</th>\n      <th>distt</th>\n    </tr>\n  </thead>\n  <tbody>\n    <tr>\n      <th>0</th>\n      <td>2015-05-10 23:59:00</td>\n      <td>-122.39958770418998</td>\n      <td>37.735051</td>\n      <td>3</td>\n      <td>3288</td>\n      <td>0</td>\n    </tr>\n    <tr>\n      <th>1</th>\n      <td>2015-05-10 23:51:00</td>\n      <td>-122.391522893042</td>\n      <td>37.732432</td>\n      <td>3</td>\n      <td>4828</td>\n      <td>0</td>\n    </tr>\n    <tr>\n      <th>2</th>\n      <td>2015-05-10 23:50:00</td>\n      <td>-122.426001954961</td>\n      <td>37.792212</td>\n      <td>3</td>\n      <td>3243</td>\n      <td>4</td>\n    </tr>\n    <tr>\n      <th>3</th>\n      <td>2015-05-10 23:45:00</td>\n      <td>-122.437393972517</td>\n      <td>37.721412</td>\n      <td>3</td>\n      <td>5237</td>\n      <td>2</td>\n    </tr>\n    <tr>\n      <th>4</th>\n      <td>2015-05-10 23:45:00</td>\n      <td>-122.437393972517</td>\n      <td>37.721412</td>\n      <td>3</td>\n      <td>5237</td>\n      <td>2</td>\n    </tr>\n  </tbody>\n</table>\n</div>",
            "text/plain": "                 Dates                    X          Y  days   add  distt\n0  2015-05-10 23:59:00  -122.39958770418998  37.735051     3  3288      0\n1  2015-05-10 23:51:00    -122.391522893042  37.732432     3  4828      0\n2  2015-05-10 23:50:00    -122.426001954961  37.792212     3  3243      4\n3  2015-05-10 23:45:00    -122.437393972517  37.721412     3  5237      2\n4  2015-05-10 23:45:00    -122.437393972517  37.721412     3  5237      2"
          },
          "metadata": {}
        }
      ]
    },
    {
      "metadata": {
        "trusted": true
      },
      "cell_type": "code",
      "source": "adr=new.drop(['days','distt'],axis='columns')",
      "execution_count": 35,
      "outputs": []
    },
    {
      "metadata": {
        "trusted": true,
        "scrolled": true
      },
      "cell_type": "code",
      "source": "adr",
      "execution_count": 36,
      "outputs": [
        {
          "output_type": "execute_result",
          "execution_count": 36,
          "data": {
            "text/html": "<div>\n<style scoped>\n    .dataframe tbody tr th:only-of-type {\n        vertical-align: middle;\n    }\n\n    .dataframe tbody tr th {\n        vertical-align: top;\n    }\n\n    .dataframe thead th {\n        text-align: right;\n    }\n</style>\n<table border=\"1\" class=\"dataframe\">\n  <thead>\n    <tr style=\"text-align: right;\">\n      <th></th>\n      <th>Dates</th>\n      <th>X</th>\n      <th>Y</th>\n      <th>add</th>\n    </tr>\n  </thead>\n  <tbody>\n    <tr>\n      <th>0</th>\n      <td>2015-05-10 23:59:00</td>\n      <td>-122.39958770418998</td>\n      <td>37.735051</td>\n      <td>3288</td>\n    </tr>\n    <tr>\n      <th>1</th>\n      <td>2015-05-10 23:51:00</td>\n      <td>-122.391522893042</td>\n      <td>37.732432</td>\n      <td>4828</td>\n    </tr>\n    <tr>\n      <th>2</th>\n      <td>2015-05-10 23:50:00</td>\n      <td>-122.426001954961</td>\n      <td>37.792212</td>\n      <td>3243</td>\n    </tr>\n    <tr>\n      <th>3</th>\n      <td>2015-05-10 23:45:00</td>\n      <td>-122.437393972517</td>\n      <td>37.721412</td>\n      <td>5237</td>\n    </tr>\n    <tr>\n      <th>4</th>\n      <td>2015-05-10 23:45:00</td>\n      <td>-122.437393972517</td>\n      <td>37.721412</td>\n      <td>5237</td>\n    </tr>\n    <tr>\n      <th>5</th>\n      <td>2015-05-10 23:40:00</td>\n      <td>-122.45902362242902</td>\n      <td>37.713172</td>\n      <td>6734</td>\n    </tr>\n    <tr>\n      <th>6</th>\n      <td>2015-05-10 23:30:00</td>\n      <td>-122.42561645123001</td>\n      <td>37.739351</td>\n      <td>873</td>\n    </tr>\n    <tr>\n      <th>7</th>\n      <td>2015-05-10 23:30:00</td>\n      <td>-122.41265203979201</td>\n      <td>37.739750</td>\n      <td>2878</td>\n    </tr>\n    <tr>\n      <th>8</th>\n      <td>2015-05-10 23:10:00</td>\n      <td>-122.418700097043</td>\n      <td>37.765165</td>\n      <td>4044</td>\n    </tr>\n    <tr>\n      <th>9</th>\n      <td>2015-05-10 23:10:00</td>\n      <td>-122.413934584561</td>\n      <td>37.798886</td>\n      <td>9574</td>\n    </tr>\n    <tr>\n      <th>10</th>\n      <td>2015-05-10 23:00:00</td>\n      <td>-122.40860777448499</td>\n      <td>37.746787</td>\n      <td>1134</td>\n    </tr>\n    <tr>\n      <th>11</th>\n      <td>2015-05-10 23:00:00</td>\n      <td>-122.411093822635</td>\n      <td>37.761048</td>\n      <td>5694</td>\n    </tr>\n    <tr>\n      <th>12</th>\n      <td>2015-05-10 23:00:00</td>\n      <td>-122.411093822635</td>\n      <td>37.761048</td>\n      <td>5694</td>\n    </tr>\n    <tr>\n      <th>13</th>\n      <td>2015-05-10 23:00:00</td>\n      <td>-122.402130610278</td>\n      <td>37.799364</td>\n      <td>3173</td>\n    </tr>\n    <tr>\n      <th>14</th>\n      <td>2015-05-10 23:00:00</td>\n      <td>-122.420747467177</td>\n      <td>37.807588</td>\n      <td>8078</td>\n    </tr>\n    <tr>\n      <th>15</th>\n      <td>2015-05-10 22:50:00</td>\n      <td>-122.415508242782</td>\n      <td>37.781654</td>\n      <td>7667</td>\n    </tr>\n    <tr>\n      <th>16</th>\n      <td>2015-05-10 22:36:00</td>\n      <td>-122.45567852962401</td>\n      <td>37.723702</td>\n      <td>1666</td>\n    </tr>\n    <tr>\n      <th>17</th>\n      <td>2015-05-10 22:00:00</td>\n      <td>-122.400298318649</td>\n      <td>37.717181</td>\n      <td>1626</td>\n    </tr>\n    <tr>\n      <th>18</th>\n      <td>2015-05-10 22:00:00</td>\n      <td>-122.433668534709</td>\n      <td>37.787709</td>\n      <td>2716</td>\n    </tr>\n    <tr>\n      <th>19</th>\n      <td>2015-05-10 22:00:00</td>\n      <td>-122.422149614358</td>\n      <td>37.797824</td>\n      <td>7753</td>\n    </tr>\n    <tr>\n      <th>20</th>\n      <td>2015-05-10 22:00:00</td>\n      <td>-122.422149614358</td>\n      <td>37.797824</td>\n      <td>7753</td>\n    </tr>\n    <tr>\n      <th>21</th>\n      <td>2015-05-10 22:00:00</td>\n      <td>-122.415464372874</td>\n      <td>37.766937</td>\n      <td>2204</td>\n    </tr>\n    <tr>\n      <th>22</th>\n      <td>2015-05-10 21:54:00</td>\n      <td>-122.406820555032</td>\n      <td>37.804828</td>\n      <td>2601</td>\n    </tr>\n    <tr>\n      <th>23</th>\n      <td>2015-05-10 21:51:00</td>\n      <td>-122.40792248129401</td>\n      <td>37.709004</td>\n      <td>3095</td>\n    </tr>\n    <tr>\n      <th>24</th>\n      <td>2015-05-10 21:35:00</td>\n      <td>-122.431289969136</td>\n      <td>37.772055</td>\n      <td>5420</td>\n    </tr>\n    <tr>\n      <th>25</th>\n      <td>2015-05-10 21:30:00</td>\n      <td>-122.469906688039</td>\n      <td>37.783616</td>\n      <td>2822</td>\n    </tr>\n    <tr>\n      <th>26</th>\n      <td>2015-05-10 21:30:00</td>\n      <td>-122.431149073441</td>\n      <td>37.777698</td>\n      <td>6188</td>\n    </tr>\n    <tr>\n      <th>27</th>\n      <td>2015-05-10 21:16:00</td>\n      <td>-122.40340479147899</td>\n      <td>37.775421</td>\n      <td>6145</td>\n    </tr>\n    <tr>\n      <th>28</th>\n      <td>2015-05-10 21:00:00</td>\n      <td>-122.45067626133002</td>\n      <td>37.735401</td>\n      <td>4311</td>\n    </tr>\n    <tr>\n      <th>29</th>\n      <td>2015-05-10 21:00:00</td>\n      <td>-122.472130727218</td>\n      <td>37.753391</td>\n      <td>2540</td>\n    </tr>\n    <tr>\n      <th>...</th>\n      <td>...</td>\n      <td>...</td>\n      <td>...</td>\n      <td>...</td>\n    </tr>\n    <tr>\n      <th>41169</th>\n      <td>2014-10-26 01:00:00</td>\n      <td>-122.402070243227</td>\n      <td>37.788720</td>\n      <td>8496</td>\n    </tr>\n    <tr>\n      <th>41170</th>\n      <td>2014-10-26 01:00:00</td>\n      <td>-122.413287527194</td>\n      <td>37.771196</td>\n      <td>4115</td>\n    </tr>\n    <tr>\n      <th>41171</th>\n      <td>2014-10-26 01:00:00</td>\n      <td>-122.388078475154</td>\n      <td>37.732443</td>\n      <td>1987</td>\n    </tr>\n    <tr>\n      <th>41172</th>\n      <td>2014-10-26 01:00:00</td>\n      <td>-122.388078475154</td>\n      <td>37.732443</td>\n      <td>1987</td>\n    </tr>\n    <tr>\n      <th>41173</th>\n      <td>2014-10-26 01:00:00</td>\n      <td>-122.420515681408</td>\n      <td>37.789384</td>\n      <td>1829</td>\n    </tr>\n    <tr>\n      <th>41174</th>\n      <td>2014-10-26 01:00:00</td>\n      <td>-122.43579598944599</td>\n      <td>37.798257</td>\n      <td>4503</td>\n    </tr>\n    <tr>\n      <th>41175</th>\n      <td>2014-10-26 00:56:00</td>\n      <td>-122.40340479147899</td>\n      <td>37.775421</td>\n      <td>6145</td>\n    </tr>\n    <tr>\n      <th>41176</th>\n      <td>2014-10-26 00:50:00</td>\n      <td>-122.40880996045401</td>\n      <td>37.798571</td>\n      <td>9502</td>\n    </tr>\n    <tr>\n      <th>41177</th>\n      <td>2014-10-26 00:50:00</td>\n      <td>-122.395635436168</td>\n      <td>37.753565</td>\n      <td>186</td>\n    </tr>\n    <tr>\n      <th>41178</th>\n      <td>2014-10-26 00:50:00</td>\n      <td>-122.395635436168</td>\n      <td>37.753565</td>\n      <td>186</td>\n    </tr>\n    <tr>\n      <th>41179</th>\n      <td>2014-10-26 00:45:00</td>\n      <td>-122.410507458268</td>\n      <td>37.777093</td>\n      <td>7958</td>\n    </tr>\n    <tr>\n      <th>41180</th>\n      <td>2014-10-26 00:45:00</td>\n      <td>-122.41812008648998</td>\n      <td>37.760301</td>\n      <td>2790</td>\n    </tr>\n    <tr>\n      <th>41181</th>\n      <td>2014-10-26 00:40:00</td>\n      <td>-122.43168151491001</td>\n      <td>37.725247</td>\n      <td>2961</td>\n    </tr>\n    <tr>\n      <th>41182</th>\n      <td>2014-10-26 00:38:00</td>\n      <td>-122.419374719759</td>\n      <td>37.746504</td>\n      <td>4510</td>\n    </tr>\n    <tr>\n      <th>41183</th>\n      <td>2014-10-26 00:30:00</td>\n      <td>-122.436797742278</td>\n      <td>37.800803</td>\n      <td>3232</td>\n    </tr>\n    <tr>\n      <th>41184</th>\n      <td>2014-10-26 00:18:00</td>\n      <td>-122.41013523637699</td>\n      <td>37.784189</td>\n      <td>926</td>\n    </tr>\n    <tr>\n      <th>41185</th>\n      <td>2014-10-26 00:10:00</td>\n      <td>-122.399826049876</td>\n      <td>37.786301</td>\n      <td>1107</td>\n    </tr>\n    <tr>\n      <th>41186</th>\n      <td>2014-10-26 00:05:00</td>\n      <td>-122.440504989739</td>\n      <td>37.775661</td>\n      <td>1947</td>\n    </tr>\n    <tr>\n      <th>41187</th>\n      <td>2014-10-26 00:01:00</td>\n      <td>-122.48118317163001</td>\n      <td>37.743727</td>\n      <td>3557</td>\n    </tr>\n    <tr>\n      <th>41188</th>\n      <td>2014-10-26 00:01:00</td>\n      <td>-122.446933310975</td>\n      <td>37.770006</td>\n      <td>7800</td>\n    </tr>\n    <tr>\n      <th>41189</th>\n      <td>2014-10-26 00:01:00</td>\n      <td>-122.42236740956301</td>\n      <td>37.769868</td>\n      <td>9732</td>\n    </tr>\n    <tr>\n      <th>41190</th>\n      <td>2014-10-26 00:01:00</td>\n      <td>-122.429850411503</td>\n      <td>37.777918</td>\n      <td>9866</td>\n    </tr>\n    <tr>\n      <th>41191</th>\n      <td>2014-10-26 00:01:00</td>\n      <td>-122.48118317163001</td>\n      <td>37.743727</td>\n      <td>3557</td>\n    </tr>\n    <tr>\n      <th>41192</th>\n      <td>2014-10-26 00:01:00</td>\n      <td>-122.48118317163001</td>\n      <td>37.743727</td>\n      <td>3557</td>\n    </tr>\n    <tr>\n      <th>41193</th>\n      <td>2014-10-26 00:01:00</td>\n      <td>-122.422472490035</td>\n      <td>37.803569</td>\n      <td>1308</td>\n    </tr>\n    <tr>\n      <th>41194</th>\n      <td>2014-10-26 00:01:00</td>\n      <td>-122.422472490035</td>\n      <td>37.803569</td>\n      <td>1308</td>\n    </tr>\n    <tr>\n      <th>41195</th>\n      <td>2014-10-26 00:01:00</td>\n      <td>-122.408924999704</td>\n      <td>37.804717</td>\n      <td>1137</td>\n    </tr>\n    <tr>\n      <th>41196</th>\n      <td>2014-10-26 00:01:00</td>\n      <td>-122.446612978839</td>\n      <td>37.782246</td>\n      <td>3896</td>\n    </tr>\n    <tr>\n      <th>41197</th>\n      <td>2014-10-26 00:01:00</td>\n      <td>-122.43607183338699</td>\n      <td>37.799622</td>\n      <td>4544</td>\n    </tr>\n    <tr>\n      <th>41198</th>\n      <td>2014-10-26 00:01:00</td>\n      <td>-</td>\n      <td>NaN</td>\n      <td>5140</td>\n    </tr>\n  </tbody>\n</table>\n<p>41199 rows × 4 columns</p>\n</div>",
            "text/plain": "                     Dates                    X          Y   add\n0      2015-05-10 23:59:00  -122.39958770418998  37.735051  3288\n1      2015-05-10 23:51:00    -122.391522893042  37.732432  4828\n2      2015-05-10 23:50:00    -122.426001954961  37.792212  3243\n3      2015-05-10 23:45:00    -122.437393972517  37.721412  5237\n4      2015-05-10 23:45:00    -122.437393972517  37.721412  5237\n5      2015-05-10 23:40:00  -122.45902362242902  37.713172  6734\n6      2015-05-10 23:30:00  -122.42561645123001  37.739351   873\n7      2015-05-10 23:30:00  -122.41265203979201  37.739750  2878\n8      2015-05-10 23:10:00    -122.418700097043  37.765165  4044\n9      2015-05-10 23:10:00    -122.413934584561  37.798886  9574\n10     2015-05-10 23:00:00  -122.40860777448499  37.746787  1134\n11     2015-05-10 23:00:00    -122.411093822635  37.761048  5694\n12     2015-05-10 23:00:00    -122.411093822635  37.761048  5694\n13     2015-05-10 23:00:00    -122.402130610278  37.799364  3173\n14     2015-05-10 23:00:00    -122.420747467177  37.807588  8078\n15     2015-05-10 22:50:00    -122.415508242782  37.781654  7667\n16     2015-05-10 22:36:00  -122.45567852962401  37.723702  1666\n17     2015-05-10 22:00:00    -122.400298318649  37.717181  1626\n18     2015-05-10 22:00:00    -122.433668534709  37.787709  2716\n19     2015-05-10 22:00:00    -122.422149614358  37.797824  7753\n20     2015-05-10 22:00:00    -122.422149614358  37.797824  7753\n21     2015-05-10 22:00:00    -122.415464372874  37.766937  2204\n22     2015-05-10 21:54:00    -122.406820555032  37.804828  2601\n23     2015-05-10 21:51:00  -122.40792248129401  37.709004  3095\n24     2015-05-10 21:35:00    -122.431289969136  37.772055  5420\n25     2015-05-10 21:30:00    -122.469906688039  37.783616  2822\n26     2015-05-10 21:30:00    -122.431149073441  37.777698  6188\n27     2015-05-10 21:16:00  -122.40340479147899  37.775421  6145\n28     2015-05-10 21:00:00  -122.45067626133002  37.735401  4311\n29     2015-05-10 21:00:00    -122.472130727218  37.753391  2540\n...                    ...                  ...        ...   ...\n41169  2014-10-26 01:00:00    -122.402070243227  37.788720  8496\n41170  2014-10-26 01:00:00    -122.413287527194  37.771196  4115\n41171  2014-10-26 01:00:00    -122.388078475154  37.732443  1987\n41172  2014-10-26 01:00:00    -122.388078475154  37.732443  1987\n41173  2014-10-26 01:00:00    -122.420515681408  37.789384  1829\n41174  2014-10-26 01:00:00  -122.43579598944599  37.798257  4503\n41175  2014-10-26 00:56:00  -122.40340479147899  37.775421  6145\n41176  2014-10-26 00:50:00  -122.40880996045401  37.798571  9502\n41177  2014-10-26 00:50:00    -122.395635436168  37.753565   186\n41178  2014-10-26 00:50:00    -122.395635436168  37.753565   186\n41179  2014-10-26 00:45:00    -122.410507458268  37.777093  7958\n41180  2014-10-26 00:45:00  -122.41812008648998  37.760301  2790\n41181  2014-10-26 00:40:00  -122.43168151491001  37.725247  2961\n41182  2014-10-26 00:38:00    -122.419374719759  37.746504  4510\n41183  2014-10-26 00:30:00    -122.436797742278  37.800803  3232\n41184  2014-10-26 00:18:00  -122.41013523637699  37.784189   926\n41185  2014-10-26 00:10:00    -122.399826049876  37.786301  1107\n41186  2014-10-26 00:05:00    -122.440504989739  37.775661  1947\n41187  2014-10-26 00:01:00  -122.48118317163001  37.743727  3557\n41188  2014-10-26 00:01:00    -122.446933310975  37.770006  7800\n41189  2014-10-26 00:01:00  -122.42236740956301  37.769868  9732\n41190  2014-10-26 00:01:00    -122.429850411503  37.777918  9866\n41191  2014-10-26 00:01:00  -122.48118317163001  37.743727  3557\n41192  2014-10-26 00:01:00  -122.48118317163001  37.743727  3557\n41193  2014-10-26 00:01:00    -122.422472490035  37.803569  1308\n41194  2014-10-26 00:01:00    -122.422472490035  37.803569  1308\n41195  2014-10-26 00:01:00    -122.408924999704  37.804717  1137\n41196  2014-10-26 00:01:00    -122.446612978839  37.782246  3896\n41197  2014-10-26 00:01:00  -122.43607183338699  37.799622  4544\n41198  2014-10-26 00:01:00                    -        NaN  5140\n\n[41199 rows x 4 columns]"
          },
          "metadata": {}
        }
      ]
    },
    {
      "metadata": {
        "trusted": true
      },
      "cell_type": "code",
      "source": "net=pd.DataFrame()\nnet=new.drop([\"X\",\"Y\"],axis='columns')",
      "execution_count": 41,
      "outputs": []
    },
    {
      "metadata": {
        "trusted": true
      },
      "cell_type": "code",
      "source": "net.head()",
      "execution_count": 42,
      "outputs": [
        {
          "output_type": "execute_result",
          "execution_count": 42,
          "data": {
            "text/html": "<div>\n<style scoped>\n    .dataframe tbody tr th:only-of-type {\n        vertical-align: middle;\n    }\n\n    .dataframe tbody tr th {\n        vertical-align: top;\n    }\n\n    .dataframe thead th {\n        text-align: right;\n    }\n</style>\n<table border=\"1\" class=\"dataframe\">\n  <thead>\n    <tr style=\"text-align: right;\">\n      <th></th>\n      <th>Dates</th>\n      <th>days</th>\n      <th>add</th>\n      <th>distt</th>\n    </tr>\n  </thead>\n  <tbody>\n    <tr>\n      <th>0</th>\n      <td>2015-05-10 23:59:00</td>\n      <td>3</td>\n      <td>3288</td>\n      <td>0</td>\n    </tr>\n    <tr>\n      <th>1</th>\n      <td>2015-05-10 23:51:00</td>\n      <td>3</td>\n      <td>4828</td>\n      <td>0</td>\n    </tr>\n    <tr>\n      <th>2</th>\n      <td>2015-05-10 23:50:00</td>\n      <td>3</td>\n      <td>3243</td>\n      <td>4</td>\n    </tr>\n    <tr>\n      <th>3</th>\n      <td>2015-05-10 23:45:00</td>\n      <td>3</td>\n      <td>5237</td>\n      <td>2</td>\n    </tr>\n    <tr>\n      <th>4</th>\n      <td>2015-05-10 23:45:00</td>\n      <td>3</td>\n      <td>5237</td>\n      <td>2</td>\n    </tr>\n  </tbody>\n</table>\n</div>",
            "text/plain": "                 Dates  days   add  distt\n0  2015-05-10 23:59:00     3  3288      0\n1  2015-05-10 23:51:00     3  4828      0\n2  2015-05-10 23:50:00     3  3243      4\n3  2015-05-10 23:45:00     3  5237      2\n4  2015-05-10 23:45:00     3  5237      2"
          },
          "metadata": {}
        }
      ]
    },
    {
      "metadata": {
        "trusted": true,
        "scrolled": true
      },
      "cell_type": "code",
      "source": "net['year'] = net['Dates'].dt.year\nnet['month'] = net['Dates'].dt.month\nnet['day'] = net['Dates'].dt.day\nnet['hour'] = net['Dates'].dt.hour\nnet['minute'] = net['Dates'].dt.minute\nnet['second'] = net['Dates'].dt.second\n",
      "execution_count": 52,
      "outputs": [
        {
          "output_type": "error",
          "ename": "AttributeError",
          "evalue": "Can only use .dt accessor with datetimelike values",
          "traceback": [
            "\u001b[0;31m---------------------------------------------------------------------------\u001b[0m",
            "\u001b[0;31mTypeError\u001b[0m                                 Traceback (most recent call last)",
            "\u001b[0;32m~/anaconda3_501/lib/python3.6/site-packages/pandas/core/indexes/accessors.py\u001b[0m in \u001b[0;36m_make_accessor\u001b[0;34m(cls, data)\u001b[0m\n\u001b[1;32m    255\u001b[0m         \u001b[0;32mtry\u001b[0m\u001b[0;34m:\u001b[0m\u001b[0;34m\u001b[0m\u001b[0m\n\u001b[0;32m--> 256\u001b[0;31m             \u001b[0;32mreturn\u001b[0m \u001b[0mmaybe_to_datetimelike\u001b[0m\u001b[0;34m(\u001b[0m\u001b[0mdata\u001b[0m\u001b[0;34m)\u001b[0m\u001b[0;34m\u001b[0m\u001b[0m\n\u001b[0m\u001b[1;32m    257\u001b[0m         \u001b[0;32mexcept\u001b[0m \u001b[0mException\u001b[0m\u001b[0;34m:\u001b[0m\u001b[0;34m\u001b[0m\u001b[0m\n",
            "\u001b[0;32m~/anaconda3_501/lib/python3.6/site-packages/pandas/core/indexes/accessors.py\u001b[0m in \u001b[0;36mmaybe_to_datetimelike\u001b[0;34m(data, copy)\u001b[0m\n\u001b[1;32m     81\u001b[0m     raise TypeError(\"cannot convert an object of type {0} to a \"\n\u001b[0;32m---> 82\u001b[0;31m                     \"datetimelike index\".format(type(data)))\n\u001b[0m\u001b[1;32m     83\u001b[0m \u001b[0;34m\u001b[0m\u001b[0m\n",
            "\u001b[0;31mTypeError\u001b[0m: cannot convert an object of type <class 'pandas.core.series.Series'> to a datetimelike index",
            "\nDuring handling of the above exception, another exception occurred:\n",
            "\u001b[0;31mAttributeError\u001b[0m                            Traceback (most recent call last)",
            "\u001b[0;32m<ipython-input-52-25e2d63c54a8>\u001b[0m in \u001b[0;36m<module>\u001b[0;34m\u001b[0m\n\u001b[0;32m----> 1\u001b[0;31m \u001b[0mnet\u001b[0m\u001b[0;34m[\u001b[0m\u001b[0;34m'year'\u001b[0m\u001b[0;34m]\u001b[0m \u001b[0;34m=\u001b[0m \u001b[0mnet\u001b[0m\u001b[0;34m[\u001b[0m\u001b[0;34m'Dates'\u001b[0m\u001b[0;34m]\u001b[0m\u001b[0;34m.\u001b[0m\u001b[0mdt\u001b[0m\u001b[0;34m.\u001b[0m\u001b[0myear\u001b[0m\u001b[0;34m\u001b[0m\u001b[0m\n\u001b[0m\u001b[1;32m      2\u001b[0m \u001b[0mnet\u001b[0m\u001b[0;34m[\u001b[0m\u001b[0;34m'month'\u001b[0m\u001b[0;34m]\u001b[0m \u001b[0;34m=\u001b[0m \u001b[0mnet\u001b[0m\u001b[0;34m[\u001b[0m\u001b[0;34m'Dates'\u001b[0m\u001b[0;34m]\u001b[0m\u001b[0;34m.\u001b[0m\u001b[0mdt\u001b[0m\u001b[0;34m.\u001b[0m\u001b[0mmonth\u001b[0m\u001b[0;34m\u001b[0m\u001b[0m\n\u001b[1;32m      3\u001b[0m \u001b[0mnet\u001b[0m\u001b[0;34m[\u001b[0m\u001b[0;34m'day'\u001b[0m\u001b[0;34m]\u001b[0m \u001b[0;34m=\u001b[0m \u001b[0mnet\u001b[0m\u001b[0;34m[\u001b[0m\u001b[0;34m'Dates'\u001b[0m\u001b[0;34m]\u001b[0m\u001b[0;34m.\u001b[0m\u001b[0mdt\u001b[0m\u001b[0;34m.\u001b[0m\u001b[0mday\u001b[0m\u001b[0;34m\u001b[0m\u001b[0m\n\u001b[1;32m      4\u001b[0m \u001b[0mnet\u001b[0m\u001b[0;34m[\u001b[0m\u001b[0;34m'hour'\u001b[0m\u001b[0;34m]\u001b[0m \u001b[0;34m=\u001b[0m \u001b[0mnet\u001b[0m\u001b[0;34m[\u001b[0m\u001b[0;34m'Dates'\u001b[0m\u001b[0;34m]\u001b[0m\u001b[0;34m.\u001b[0m\u001b[0mdt\u001b[0m\u001b[0;34m.\u001b[0m\u001b[0mhour\u001b[0m\u001b[0;34m\u001b[0m\u001b[0m\n\u001b[1;32m      5\u001b[0m \u001b[0mnet\u001b[0m\u001b[0;34m[\u001b[0m\u001b[0;34m'minute'\u001b[0m\u001b[0;34m]\u001b[0m \u001b[0;34m=\u001b[0m \u001b[0mnet\u001b[0m\u001b[0;34m[\u001b[0m\u001b[0;34m'Dates'\u001b[0m\u001b[0;34m]\u001b[0m\u001b[0;34m.\u001b[0m\u001b[0mdt\u001b[0m\u001b[0;34m.\u001b[0m\u001b[0mminute\u001b[0m\u001b[0;34m\u001b[0m\u001b[0m\n",
            "\u001b[0;32m~/anaconda3_501/lib/python3.6/site-packages/pandas/core/generic.py\u001b[0m in \u001b[0;36m__getattr__\u001b[0;34m(self, name)\u001b[0m\n\u001b[1;32m   3608\u001b[0m         if (name in self._internal_names_set or name in self._metadata or\n\u001b[1;32m   3609\u001b[0m                 name in self._accessors):\n\u001b[0;32m-> 3610\u001b[0;31m             \u001b[0;32mreturn\u001b[0m \u001b[0mobject\u001b[0m\u001b[0;34m.\u001b[0m\u001b[0m__getattribute__\u001b[0m\u001b[0;34m(\u001b[0m\u001b[0mself\u001b[0m\u001b[0;34m,\u001b[0m \u001b[0mname\u001b[0m\u001b[0;34m)\u001b[0m\u001b[0;34m\u001b[0m\u001b[0m\n\u001b[0m\u001b[1;32m   3611\u001b[0m         \u001b[0;32melse\u001b[0m\u001b[0;34m:\u001b[0m\u001b[0;34m\u001b[0m\u001b[0m\n\u001b[1;32m   3612\u001b[0m             \u001b[0;32mif\u001b[0m \u001b[0mname\u001b[0m \u001b[0;32min\u001b[0m \u001b[0mself\u001b[0m\u001b[0;34m.\u001b[0m\u001b[0m_info_axis\u001b[0m\u001b[0;34m:\u001b[0m\u001b[0;34m\u001b[0m\u001b[0m\n",
            "\u001b[0;32m~/anaconda3_501/lib/python3.6/site-packages/pandas/core/accessor.py\u001b[0m in \u001b[0;36m__get__\u001b[0;34m(self, instance, owner)\u001b[0m\n\u001b[1;32m     52\u001b[0m             \u001b[0;31m# this ensures that Series.str.<method> is well defined\u001b[0m\u001b[0;34m\u001b[0m\u001b[0;34m\u001b[0m\u001b[0m\n\u001b[1;32m     53\u001b[0m             \u001b[0;32mreturn\u001b[0m \u001b[0mself\u001b[0m\u001b[0;34m.\u001b[0m\u001b[0maccessor_cls\u001b[0m\u001b[0;34m\u001b[0m\u001b[0m\n\u001b[0;32m---> 54\u001b[0;31m         \u001b[0;32mreturn\u001b[0m \u001b[0mself\u001b[0m\u001b[0;34m.\u001b[0m\u001b[0mconstruct_accessor\u001b[0m\u001b[0;34m(\u001b[0m\u001b[0minstance\u001b[0m\u001b[0;34m)\u001b[0m\u001b[0;34m\u001b[0m\u001b[0m\n\u001b[0m\u001b[1;32m     55\u001b[0m \u001b[0;34m\u001b[0m\u001b[0m\n\u001b[1;32m     56\u001b[0m     \u001b[0;32mdef\u001b[0m \u001b[0m__set__\u001b[0m\u001b[0;34m(\u001b[0m\u001b[0mself\u001b[0m\u001b[0;34m,\u001b[0m \u001b[0minstance\u001b[0m\u001b[0;34m,\u001b[0m \u001b[0mvalue\u001b[0m\u001b[0;34m)\u001b[0m\u001b[0;34m:\u001b[0m\u001b[0;34m\u001b[0m\u001b[0m\n",
            "\u001b[0;32m~/anaconda3_501/lib/python3.6/site-packages/pandas/core/indexes/accessors.py\u001b[0m in \u001b[0;36m_make_accessor\u001b[0;34m(cls, data)\u001b[0m\n\u001b[1;32m    256\u001b[0m             \u001b[0;32mreturn\u001b[0m \u001b[0mmaybe_to_datetimelike\u001b[0m\u001b[0;34m(\u001b[0m\u001b[0mdata\u001b[0m\u001b[0;34m)\u001b[0m\u001b[0;34m\u001b[0m\u001b[0m\n\u001b[1;32m    257\u001b[0m         \u001b[0;32mexcept\u001b[0m \u001b[0mException\u001b[0m\u001b[0;34m:\u001b[0m\u001b[0;34m\u001b[0m\u001b[0m\n\u001b[0;32m--> 258\u001b[0;31m             raise AttributeError(\"Can only use .dt accessor with \"\n\u001b[0m\u001b[1;32m    259\u001b[0m                                  \"datetimelike values\")\n",
            "\u001b[0;31mAttributeError\u001b[0m: Can only use .dt accessor with datetimelike values"
          ]
        }
      ]
    },
    {
      "metadata": {
        "trusted": true
      },
      "cell_type": "code",
      "source": "net['Dates'] = pd.to_datetime(net['Dates'], format = '%d%b%Y%hr%m%s')",
      "execution_count": 50,
      "outputs": [
        {
          "output_type": "error",
          "ename": "ValueError",
          "evalue": "'h' is a bad directive in format '%d%b%Y%hr%m%s'",
          "traceback": [
            "\u001b[0;31m---------------------------------------------------------------------------\u001b[0m",
            "\u001b[0;31mTypeError\u001b[0m                                 Traceback (most recent call last)",
            "\u001b[0;32m~/anaconda3_501/lib/python3.6/site-packages/pandas/core/tools/datetimes.py\u001b[0m in \u001b[0;36m_convert_listlike\u001b[0;34m(arg, box, format, name, tz)\u001b[0m\n\u001b[1;32m    302\u001b[0m             \u001b[0;32mtry\u001b[0m\u001b[0;34m:\u001b[0m\u001b[0;34m\u001b[0m\u001b[0m\n\u001b[0;32m--> 303\u001b[0;31m                 \u001b[0mvalues\u001b[0m\u001b[0;34m,\u001b[0m \u001b[0mtz\u001b[0m \u001b[0;34m=\u001b[0m \u001b[0mtslib\u001b[0m\u001b[0;34m.\u001b[0m\u001b[0mdatetime_to_datetime64\u001b[0m\u001b[0;34m(\u001b[0m\u001b[0marg\u001b[0m\u001b[0;34m)\u001b[0m\u001b[0;34m\u001b[0m\u001b[0m\n\u001b[0m\u001b[1;32m    304\u001b[0m                 \u001b[0;32mreturn\u001b[0m \u001b[0mDatetimeIndex\u001b[0m\u001b[0;34m.\u001b[0m\u001b[0m_simple_new\u001b[0m\u001b[0;34m(\u001b[0m\u001b[0mvalues\u001b[0m\u001b[0;34m,\u001b[0m \u001b[0mname\u001b[0m\u001b[0;34m=\u001b[0m\u001b[0mname\u001b[0m\u001b[0;34m,\u001b[0m \u001b[0mtz\u001b[0m\u001b[0;34m=\u001b[0m\u001b[0mtz\u001b[0m\u001b[0;34m)\u001b[0m\u001b[0;34m\u001b[0m\u001b[0m\n",
            "\u001b[0;32mpandas/_libs/tslib.pyx\u001b[0m in \u001b[0;36mpandas._libs.tslib.datetime_to_datetime64\u001b[0;34m()\u001b[0m\n",
            "\u001b[0;31mTypeError\u001b[0m: Unrecognized value type: <class 'str'>",
            "\nDuring handling of the above exception, another exception occurred:\n",
            "\u001b[0;31mValueError\u001b[0m                                Traceback (most recent call last)",
            "\u001b[0;32m<ipython-input-50-8c4c76d1002b>\u001b[0m in \u001b[0;36m<module>\u001b[0;34m\u001b[0m\n\u001b[0;32m----> 1\u001b[0;31m \u001b[0mnet\u001b[0m\u001b[0;34m[\u001b[0m\u001b[0;34m'Dates'\u001b[0m\u001b[0;34m]\u001b[0m \u001b[0;34m=\u001b[0m \u001b[0mpd\u001b[0m\u001b[0;34m.\u001b[0m\u001b[0mto_datetime\u001b[0m\u001b[0;34m(\u001b[0m\u001b[0mnet\u001b[0m\u001b[0;34m[\u001b[0m\u001b[0;34m'Dates'\u001b[0m\u001b[0;34m]\u001b[0m\u001b[0;34m,\u001b[0m \u001b[0mformat\u001b[0m \u001b[0;34m=\u001b[0m \u001b[0;34m'%d%b%Y%hr%m%s'\u001b[0m\u001b[0;34m)\u001b[0m\u001b[0;34m\u001b[0m\u001b[0m\n\u001b[0m",
            "\u001b[0;32m~/anaconda3_501/lib/python3.6/site-packages/pandas/core/tools/datetimes.py\u001b[0m in \u001b[0;36mto_datetime\u001b[0;34m(arg, errors, dayfirst, yearfirst, utc, box, format, exact, unit, infer_datetime_format, origin)\u001b[0m\n\u001b[1;32m    371\u001b[0m     \u001b[0;32melif\u001b[0m \u001b[0misinstance\u001b[0m\u001b[0;34m(\u001b[0m\u001b[0marg\u001b[0m\u001b[0;34m,\u001b[0m \u001b[0mABCSeries\u001b[0m\u001b[0;34m)\u001b[0m\u001b[0;34m:\u001b[0m\u001b[0;34m\u001b[0m\u001b[0m\n\u001b[1;32m    372\u001b[0m         \u001b[0;32mfrom\u001b[0m \u001b[0mpandas\u001b[0m \u001b[0;32mimport\u001b[0m \u001b[0mSeries\u001b[0m\u001b[0;34m\u001b[0m\u001b[0m\n\u001b[0;32m--> 373\u001b[0;31m         \u001b[0mvalues\u001b[0m \u001b[0;34m=\u001b[0m \u001b[0m_convert_listlike\u001b[0m\u001b[0;34m(\u001b[0m\u001b[0marg\u001b[0m\u001b[0;34m.\u001b[0m\u001b[0m_values\u001b[0m\u001b[0;34m,\u001b[0m \u001b[0;32mTrue\u001b[0m\u001b[0;34m,\u001b[0m \u001b[0mformat\u001b[0m\u001b[0;34m)\u001b[0m\u001b[0;34m\u001b[0m\u001b[0m\n\u001b[0m\u001b[1;32m    374\u001b[0m         \u001b[0mresult\u001b[0m \u001b[0;34m=\u001b[0m \u001b[0mSeries\u001b[0m\u001b[0;34m(\u001b[0m\u001b[0mvalues\u001b[0m\u001b[0;34m,\u001b[0m \u001b[0mindex\u001b[0m\u001b[0;34m=\u001b[0m\u001b[0marg\u001b[0m\u001b[0;34m.\u001b[0m\u001b[0mindex\u001b[0m\u001b[0;34m,\u001b[0m \u001b[0mname\u001b[0m\u001b[0;34m=\u001b[0m\u001b[0marg\u001b[0m\u001b[0;34m.\u001b[0m\u001b[0mname\u001b[0m\u001b[0;34m)\u001b[0m\u001b[0;34m\u001b[0m\u001b[0m\n\u001b[1;32m    375\u001b[0m     \u001b[0;32melif\u001b[0m \u001b[0misinstance\u001b[0m\u001b[0;34m(\u001b[0m\u001b[0marg\u001b[0m\u001b[0;34m,\u001b[0m \u001b[0;34m(\u001b[0m\u001b[0mABCDataFrame\u001b[0m\u001b[0;34m,\u001b[0m \u001b[0mMutableMapping\u001b[0m\u001b[0;34m)\u001b[0m\u001b[0;34m)\u001b[0m\u001b[0;34m:\u001b[0m\u001b[0;34m\u001b[0m\u001b[0m\n",
            "\u001b[0;32m~/anaconda3_501/lib/python3.6/site-packages/pandas/core/tools/datetimes.py\u001b[0m in \u001b[0;36m_convert_listlike\u001b[0;34m(arg, box, format, name, tz)\u001b[0m\n\u001b[1;32m    304\u001b[0m                 \u001b[0;32mreturn\u001b[0m \u001b[0mDatetimeIndex\u001b[0m\u001b[0;34m.\u001b[0m\u001b[0m_simple_new\u001b[0m\u001b[0;34m(\u001b[0m\u001b[0mvalues\u001b[0m\u001b[0;34m,\u001b[0m \u001b[0mname\u001b[0m\u001b[0;34m=\u001b[0m\u001b[0mname\u001b[0m\u001b[0;34m,\u001b[0m \u001b[0mtz\u001b[0m\u001b[0;34m=\u001b[0m\u001b[0mtz\u001b[0m\u001b[0;34m)\u001b[0m\u001b[0;34m\u001b[0m\u001b[0m\n\u001b[1;32m    305\u001b[0m             \u001b[0;32mexcept\u001b[0m \u001b[0;34m(\u001b[0m\u001b[0mValueError\u001b[0m\u001b[0;34m,\u001b[0m \u001b[0mTypeError\u001b[0m\u001b[0;34m)\u001b[0m\u001b[0;34m:\u001b[0m\u001b[0;34m\u001b[0m\u001b[0m\n\u001b[0;32m--> 306\u001b[0;31m                 \u001b[0;32mraise\u001b[0m \u001b[0me\u001b[0m\u001b[0;34m\u001b[0m\u001b[0m\n\u001b[0m\u001b[1;32m    307\u001b[0m \u001b[0;34m\u001b[0m\u001b[0m\n\u001b[1;32m    308\u001b[0m     \u001b[0;32mif\u001b[0m \u001b[0marg\u001b[0m \u001b[0;32mis\u001b[0m \u001b[0;32mNone\u001b[0m\u001b[0;34m:\u001b[0m\u001b[0;34m\u001b[0m\u001b[0m\n",
            "\u001b[0;32m~/anaconda3_501/lib/python3.6/site-packages/pandas/core/tools/datetimes.py\u001b[0m in \u001b[0;36m_convert_listlike\u001b[0;34m(arg, box, format, name, tz)\u001b[0m\n\u001b[1;32m    271\u001b[0m                     \u001b[0;32mtry\u001b[0m\u001b[0;34m:\u001b[0m\u001b[0;34m\u001b[0m\u001b[0m\n\u001b[1;32m    272\u001b[0m                         result = array_strptime(arg, format, exact=exact,\n\u001b[0;32m--> 273\u001b[0;31m                                                 errors=errors)\n\u001b[0m\u001b[1;32m    274\u001b[0m                     \u001b[0;32mexcept\u001b[0m \u001b[0mtslib\u001b[0m\u001b[0;34m.\u001b[0m\u001b[0mOutOfBoundsDatetime\u001b[0m\u001b[0;34m:\u001b[0m\u001b[0;34m\u001b[0m\u001b[0m\n\u001b[1;32m    275\u001b[0m                         \u001b[0;32mif\u001b[0m \u001b[0merrors\u001b[0m \u001b[0;34m==\u001b[0m \u001b[0;34m'raise'\u001b[0m\u001b[0;34m:\u001b[0m\u001b[0;34m\u001b[0m\u001b[0m\n",
            "\u001b[0;32mpandas/_libs/tslibs/strptime.pyx\u001b[0m in \u001b[0;36mpandas._libs.tslibs.strptime.array_strptime\u001b[0;34m()\u001b[0m\n",
            "\u001b[0;32mpandas/_libs/tslibs/strptime.pyx\u001b[0m in \u001b[0;36mpandas._libs.tslibs.strptime.array_strptime\u001b[0;34m()\u001b[0m\n",
            "\u001b[0;31mValueError\u001b[0m: 'h' is a bad directive in format '%d%b%Y%hr%m%s'"
          ]
        }
      ]
    },
    {
      "metadata": {},
      "cell_type": "raw",
      "source": ""
    },
    {
      "metadata": {
        "trusted": true
      },
      "cell_type": "code",
      "source": "",
      "execution_count": null,
      "outputs": []
    },
    {
      "metadata": {
        "trusted": true
      },
      "cell_type": "code",
      "source": "",
      "execution_count": null,
      "outputs": []
    },
    {
      "metadata": {
        "trusted": true
      },
      "cell_type": "code",
      "source": "",
      "execution_count": null,
      "outputs": []
    },
    {
      "metadata": {
        "trusted": true
      },
      "cell_type": "code",
      "source": "",
      "execution_count": null,
      "outputs": []
    },
    {
      "metadata": {
        "trusted": true
      },
      "cell_type": "code",
      "source": "",
      "execution_count": null,
      "outputs": []
    },
    {
      "metadata": {
        "trusted": true
      },
      "cell_type": "code",
      "source": "",
      "execution_count": null,
      "outputs": []
    },
    {
      "metadata": {
        "trusted": true
      },
      "cell_type": "code",
      "source": "",
      "execution_count": null,
      "outputs": []
    },
    {
      "metadata": {
        "trusted": true
      },
      "cell_type": "code",
      "source": "from sklearn import tree",
      "execution_count": null,
      "outputs": []
    },
    {
      "metadata": {
        "trusted": true
      },
      "cell_type": "code",
      "source": "model=tree.DecisionTreeClassifier()",
      "execution_count": null,
      "outputs": []
    },
    {
      "metadata": {
        "trusted": true
      },
      "cell_type": "code",
      "source": "",
      "execution_count": null,
      "outputs": []
    }
  ],
  "metadata": {
    "kernelspec": {
      "name": "python36",
      "display_name": "Python 3.6",
      "language": "python"
    },
    "language_info": {
      "mimetype": "text/x-python",
      "nbconvert_exporter": "python",
      "name": "python",
      "pygments_lexer": "ipython3",
      "version": "3.6.6",
      "file_extension": ".py",
      "codemirror_mode": {
        "version": 3,
        "name": "ipython"
      }
    }
  },
  "nbformat": 4,
  "nbformat_minor": 2
}