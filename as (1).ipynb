import numpy as np
import pandas as pd
d=pd.read_csv("test.csv")
len(d)
d=pd.DataFrame(d)
d.DayOfWeek.describe()
d.count()
d=d.drop_duplicates()
d.count()
d['PdDistrict'].nunique()
d['Address'].nunique()
df=pd.DataFrame(d["Address"].value_counts())
df1=pd.DataFrame(d["PdDistrict"].value_counts())
df2=pd.DataFrame(d["DayOfWeek"].value_counts())
import matplotlib.pyplot as plt
%matplotlib inline
import seaborn as snm
plt.scatter(df1.PdDistrict,df1.index,marker='+')
from sklearn.preprocessing import LabelEncoder
day=LabelEncoder()
dist=LabelEncoder()
ad=LabelEncoder()
d['days']=day.fit_transform(d["DayOfWeek"])
d['add']=ad.fit_transform(d["Address"])
d['distt']=dist.fit_transform(d["PdDistrict"]),
new=d.drop(["DayOfWeek","PdDistrict","Address","Id"],axis='columns')
net=pd.DataFrame()
net=new.drop(["X","Y"],axis='columns')


net['year'] = pd.DatetimeIndex(net['Dates']).year
net['month'] = pd.DatetimeIndex(net['Dates']).month
net['day'] = pd.DatetimeIndex(net['Dates']).day
net['hour'] = pd.DatetimeIndex(net['Dates']).hour
net['minute'] = pd.DatetimeIndex(net['Dates']).minute
net['second'] = pd.DatetimeIndex(net['Dates']).second



net=net.drop(['Dates','second','year',],axis='columns')

net=net.sample(20000)
net=net.reset_index()
target=net['add']
net=net.drop(["add"],axis='columns')
net=net.drop(["index"],axis='columns')


from sklearn.model_selection import train_test_split
X_train, X_test, y_train, y_test = train_test_split(net, target, test_size=0.3)

from sklearn import tree
model=tree.DecisionTreeClassifier()
model.fit(X_train,y_train)
model.predict([[3,0,5,10,23,59]])
model.predict([[3,7,10,26,1,0]])
#days,distt,month,date,hour,minute
y_predict=model.predict(X_test)


from sklearn.metrics import confusion_matrix
f=confusion_matrix(y_test, y_predict)
f